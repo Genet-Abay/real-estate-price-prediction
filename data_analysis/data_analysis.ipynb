{
 "cells": [
  {
   "cell_type": "code",
   "execution_count": 108,
   "id": "d5d9f5e7",
   "metadata": {},
   "outputs": [],
   "source": [
    "import pandas as pd\n",
    "import numpy as np\n",
    "import seaborn as sns\n",
    "import math\n",
    "from sklearn  import preprocessing\n",
    "from matplotlib import pyplot as plt\n",
    "from sklearn.linear_model import LogisticRegression as lr\n",
    "from scipy import stats\n"
   ]
  },
  {
   "cell_type": "code",
   "execution_count": 109,
   "id": "8b629404",
   "metadata": {},
   "outputs": [],
   "source": [
    "# df1 = pd.read_csv(r'C:\\BeCode\\LocalRepos\\documents\\real_estate_data_1to3.csv')\n",
    "# df2 = pd.read_csv(r'C:\\BeCode\\LocalRepos\\documents\\real_estate_data_3to5.csv')\n",
    "# df = pd.concat([df1, df2])\n",
    "\n",
    "df = pd.read_csv(r'C:\\BeCode\\LocalRepos\\documents\\real_estate_data_25to29.csv')"
   ]
  },
  {
   "cell_type": "code",
   "execution_count": 40,
   "id": "cfb4c8b7",
   "metadata": {},
   "outputs": [],
   "source": []
  },
  {
   "cell_type": "code",
   "execution_count": 110,
   "id": "6c806d8f",
   "metadata": {},
   "outputs": [
    {
     "data": {
      "text/html": [
       "<div>\n",
       "<style scoped>\n",
       "    .dataframe tbody tr th:only-of-type {\n",
       "        vertical-align: middle;\n",
       "    }\n",
       "\n",
       "    .dataframe tbody tr th {\n",
       "        vertical-align: top;\n",
       "    }\n",
       "\n",
       "    .dataframe thead th {\n",
       "        text-align: right;\n",
       "    }\n",
       "</style>\n",
       "<table border=\"1\" class=\"dataframe\">\n",
       "  <thead>\n",
       "    <tr style=\"text-align: right;\">\n",
       "      <th></th>\n",
       "      <th>ID</th>\n",
       "      <th>Type</th>\n",
       "      <th>Sub type</th>\n",
       "      <th>Price</th>\n",
       "      <th>NetHabitableSurface(msq)</th>\n",
       "      <th>BedroomCount</th>\n",
       "      <th>Province</th>\n",
       "      <th>locality</th>\n",
       "      <th>Region</th>\n",
       "      <th>PostCode</th>\n",
       "      <th>...</th>\n",
       "      <th>FacadeCount</th>\n",
       "      <th>HasLift</th>\n",
       "      <th>FloodZoneType</th>\n",
       "      <th>HeatingType</th>\n",
       "      <th>IsDoubleGlaze</th>\n",
       "      <th>HasBalcony</th>\n",
       "      <th>HasGarden</th>\n",
       "      <th>GardenArea</th>\n",
       "      <th>KitchekType</th>\n",
       "      <th>LivingRoomArea</th>\n",
       "    </tr>\n",
       "  </thead>\n",
       "  <tbody>\n",
       "    <tr>\n",
       "      <th>0</th>\n",
       "      <td>10128188</td>\n",
       "      <td>HOUSE</td>\n",
       "      <td>HOUSE</td>\n",
       "      <td>328330.0</td>\n",
       "      <td>148.0</td>\n",
       "      <td>3.0</td>\n",
       "      <td>Limburg</td>\n",
       "      <td>Zonhoven</td>\n",
       "      <td>Flanders</td>\n",
       "      <td>3520</td>\n",
       "      <td>...</td>\n",
       "      <td>3.0</td>\n",
       "      <td>NaN</td>\n",
       "      <td>NaN</td>\n",
       "      <td>NaN</td>\n",
       "      <td>True</td>\n",
       "      <td>NaN</td>\n",
       "      <td>True</td>\n",
       "      <td>347.0</td>\n",
       "      <td>NaN</td>\n",
       "      <td>NaN</td>\n",
       "    </tr>\n",
       "    <tr>\n",
       "      <th>1</th>\n",
       "      <td>10128189</td>\n",
       "      <td>HOUSE</td>\n",
       "      <td>HOUSE</td>\n",
       "      <td>328330.0</td>\n",
       "      <td>148.0</td>\n",
       "      <td>3.0</td>\n",
       "      <td>Limburg</td>\n",
       "      <td>Zonhoven</td>\n",
       "      <td>Flanders</td>\n",
       "      <td>3520</td>\n",
       "      <td>...</td>\n",
       "      <td>3.0</td>\n",
       "      <td>NaN</td>\n",
       "      <td>NaN</td>\n",
       "      <td>NaN</td>\n",
       "      <td>True</td>\n",
       "      <td>NaN</td>\n",
       "      <td>True</td>\n",
       "      <td>347.0</td>\n",
       "      <td>NaN</td>\n",
       "      <td>NaN</td>\n",
       "    </tr>\n",
       "    <tr>\n",
       "      <th>2</th>\n",
       "      <td>10128190</td>\n",
       "      <td>HOUSE</td>\n",
       "      <td>HOUSE</td>\n",
       "      <td>327829.0</td>\n",
       "      <td>148.0</td>\n",
       "      <td>3.0</td>\n",
       "      <td>Limburg</td>\n",
       "      <td>Zonhoven</td>\n",
       "      <td>Flanders</td>\n",
       "      <td>3520</td>\n",
       "      <td>...</td>\n",
       "      <td>3.0</td>\n",
       "      <td>NaN</td>\n",
       "      <td>NaN</td>\n",
       "      <td>NaN</td>\n",
       "      <td>True</td>\n",
       "      <td>NaN</td>\n",
       "      <td>True</td>\n",
       "      <td>346.0</td>\n",
       "      <td>NaN</td>\n",
       "      <td>NaN</td>\n",
       "    </tr>\n",
       "    <tr>\n",
       "      <th>3</th>\n",
       "      <td>10128191</td>\n",
       "      <td>HOUSE</td>\n",
       "      <td>HOUSE</td>\n",
       "      <td>327829.0</td>\n",
       "      <td>148.0</td>\n",
       "      <td>3.0</td>\n",
       "      <td>Limburg</td>\n",
       "      <td>Zonhoven</td>\n",
       "      <td>Flanders</td>\n",
       "      <td>3520</td>\n",
       "      <td>...</td>\n",
       "      <td>3.0</td>\n",
       "      <td>NaN</td>\n",
       "      <td>NaN</td>\n",
       "      <td>NaN</td>\n",
       "      <td>True</td>\n",
       "      <td>NaN</td>\n",
       "      <td>True</td>\n",
       "      <td>346.0</td>\n",
       "      <td>NaN</td>\n",
       "      <td>NaN</td>\n",
       "    </tr>\n",
       "    <tr>\n",
       "      <th>4</th>\n",
       "      <td>10128192</td>\n",
       "      <td>HOUSE</td>\n",
       "      <td>HOUSE</td>\n",
       "      <td>378242.0</td>\n",
       "      <td>148.0</td>\n",
       "      <td>3.0</td>\n",
       "      <td>Limburg</td>\n",
       "      <td>Zonhoven</td>\n",
       "      <td>Flanders</td>\n",
       "      <td>3520</td>\n",
       "      <td>...</td>\n",
       "      <td>4.0</td>\n",
       "      <td>NaN</td>\n",
       "      <td>NaN</td>\n",
       "      <td>NaN</td>\n",
       "      <td>True</td>\n",
       "      <td>NaN</td>\n",
       "      <td>True</td>\n",
       "      <td>589.0</td>\n",
       "      <td>NaN</td>\n",
       "      <td>NaN</td>\n",
       "    </tr>\n",
       "    <tr>\n",
       "      <th>5</th>\n",
       "      <td>10128193</td>\n",
       "      <td>HOUSE</td>\n",
       "      <td>HOUSE</td>\n",
       "      <td>1295000.0</td>\n",
       "      <td>650.0</td>\n",
       "      <td>5.0</td>\n",
       "      <td>Antwerp</td>\n",
       "      <td>Berlaar</td>\n",
       "      <td>Flanders</td>\n",
       "      <td>2590</td>\n",
       "      <td>...</td>\n",
       "      <td>3.0</td>\n",
       "      <td>NaN</td>\n",
       "      <td>NON_FLOOD_ZONE</td>\n",
       "      <td>GAS</td>\n",
       "      <td>True</td>\n",
       "      <td>NaN</td>\n",
       "      <td>NaN</td>\n",
       "      <td>NaN</td>\n",
       "      <td>INSTALLED</td>\n",
       "      <td>NaN</td>\n",
       "    </tr>\n",
       "    <tr>\n",
       "      <th>6</th>\n",
       "      <td>10128195</td>\n",
       "      <td>HOUSE</td>\n",
       "      <td>HOUSE</td>\n",
       "      <td>442000.0</td>\n",
       "      <td>221.0</td>\n",
       "      <td>4.0</td>\n",
       "      <td>Antwerp</td>\n",
       "      <td>Merksplas</td>\n",
       "      <td>Flanders</td>\n",
       "      <td>2330</td>\n",
       "      <td>...</td>\n",
       "      <td>4.0</td>\n",
       "      <td>NaN</td>\n",
       "      <td>NaN</td>\n",
       "      <td>ELECTRIC</td>\n",
       "      <td>NaN</td>\n",
       "      <td>NaN</td>\n",
       "      <td>NaN</td>\n",
       "      <td>NaN</td>\n",
       "      <td>NaN</td>\n",
       "      <td>NaN</td>\n",
       "    </tr>\n",
       "    <tr>\n",
       "      <th>7</th>\n",
       "      <td>10128196</td>\n",
       "      <td>HOUSE</td>\n",
       "      <td>MIXED_USE_BUILDING</td>\n",
       "      <td>590000.0</td>\n",
       "      <td>1100.0</td>\n",
       "      <td>3.0</td>\n",
       "      <td>Liège</td>\n",
       "      <td>Liege</td>\n",
       "      <td>Wallonie</td>\n",
       "      <td>4020</td>\n",
       "      <td>...</td>\n",
       "      <td>3.0</td>\n",
       "      <td>NaN</td>\n",
       "      <td>NaN</td>\n",
       "      <td>GAS</td>\n",
       "      <td>True</td>\n",
       "      <td>NaN</td>\n",
       "      <td>NaN</td>\n",
       "      <td>NaN</td>\n",
       "      <td>HYPER_EQUIPPED</td>\n",
       "      <td>18.0</td>\n",
       "    </tr>\n",
       "    <tr>\n",
       "      <th>8</th>\n",
       "      <td>10128197</td>\n",
       "      <td>APARTMENT</td>\n",
       "      <td>APARTMENT</td>\n",
       "      <td>249000.0</td>\n",
       "      <td>145.0</td>\n",
       "      <td>2.0</td>\n",
       "      <td>Liège</td>\n",
       "      <td>Flemalle</td>\n",
       "      <td>Wallonie</td>\n",
       "      <td>4400</td>\n",
       "      <td>...</td>\n",
       "      <td>3.0</td>\n",
       "      <td>True</td>\n",
       "      <td>NaN</td>\n",
       "      <td>NaN</td>\n",
       "      <td>True</td>\n",
       "      <td>NaN</td>\n",
       "      <td>NaN</td>\n",
       "      <td>NaN</td>\n",
       "      <td>NaN</td>\n",
       "      <td>NaN</td>\n",
       "    </tr>\n",
       "    <tr>\n",
       "      <th>9</th>\n",
       "      <td>10128198</td>\n",
       "      <td>APARTMENT</td>\n",
       "      <td>PENTHOUSE</td>\n",
       "      <td>249000.0</td>\n",
       "      <td>135.0</td>\n",
       "      <td>2.0</td>\n",
       "      <td>Liège</td>\n",
       "      <td>Flemalle</td>\n",
       "      <td>Wallonie</td>\n",
       "      <td>4400</td>\n",
       "      <td>...</td>\n",
       "      <td>3.0</td>\n",
       "      <td>True</td>\n",
       "      <td>NaN</td>\n",
       "      <td>NaN</td>\n",
       "      <td>True</td>\n",
       "      <td>NaN</td>\n",
       "      <td>NaN</td>\n",
       "      <td>NaN</td>\n",
       "      <td>NaN</td>\n",
       "      <td>NaN</td>\n",
       "    </tr>\n",
       "  </tbody>\n",
       "</table>\n",
       "<p>10 rows × 35 columns</p>\n",
       "</div>"
      ],
      "text/plain": [
       "         ID       Type            Sub type      Price  \\\n",
       "0  10128188      HOUSE               HOUSE   328330.0   \n",
       "1  10128189      HOUSE               HOUSE   328330.0   \n",
       "2  10128190      HOUSE               HOUSE   327829.0   \n",
       "3  10128191      HOUSE               HOUSE   327829.0   \n",
       "4  10128192      HOUSE               HOUSE   378242.0   \n",
       "5  10128193      HOUSE               HOUSE  1295000.0   \n",
       "6  10128195      HOUSE               HOUSE   442000.0   \n",
       "7  10128196      HOUSE  MIXED_USE_BUILDING   590000.0   \n",
       "8  10128197  APARTMENT           APARTMENT   249000.0   \n",
       "9  10128198  APARTMENT           PENTHOUSE   249000.0   \n",
       "\n",
       "   NetHabitableSurface(msq)  BedroomCount Province   locality    Region  \\\n",
       "0                     148.0           3.0  Limburg   Zonhoven  Flanders   \n",
       "1                     148.0           3.0  Limburg   Zonhoven  Flanders   \n",
       "2                     148.0           3.0  Limburg   Zonhoven  Flanders   \n",
       "3                     148.0           3.0  Limburg   Zonhoven  Flanders   \n",
       "4                     148.0           3.0  Limburg   Zonhoven  Flanders   \n",
       "5                     650.0           5.0  Antwerp    Berlaar  Flanders   \n",
       "6                     221.0           4.0  Antwerp  Merksplas  Flanders   \n",
       "7                    1100.0           3.0    Liège      Liege  Wallonie   \n",
       "8                     145.0           2.0    Liège   Flemalle  Wallonie   \n",
       "9                     135.0           2.0    Liège   Flemalle  Wallonie   \n",
       "\n",
       "  PostCode  ... FacadeCount  HasLift   FloodZoneType HeatingType  \\\n",
       "0     3520  ...         3.0      NaN             NaN         NaN   \n",
       "1     3520  ...         3.0      NaN             NaN         NaN   \n",
       "2     3520  ...         3.0      NaN             NaN         NaN   \n",
       "3     3520  ...         3.0      NaN             NaN         NaN   \n",
       "4     3520  ...         4.0      NaN             NaN         NaN   \n",
       "5     2590  ...         3.0      NaN  NON_FLOOD_ZONE         GAS   \n",
       "6     2330  ...         4.0      NaN             NaN    ELECTRIC   \n",
       "7     4020  ...         3.0      NaN             NaN         GAS   \n",
       "8     4400  ...         3.0     True             NaN         NaN   \n",
       "9     4400  ...         3.0     True             NaN         NaN   \n",
       "\n",
       "  IsDoubleGlaze  HasBalcony  HasGarden  GardenArea     KitchekType  \\\n",
       "0          True         NaN       True       347.0             NaN   \n",
       "1          True         NaN       True       347.0             NaN   \n",
       "2          True         NaN       True       346.0             NaN   \n",
       "3          True         NaN       True       346.0             NaN   \n",
       "4          True         NaN       True       589.0             NaN   \n",
       "5          True         NaN        NaN         NaN       INSTALLED   \n",
       "6           NaN         NaN        NaN         NaN             NaN   \n",
       "7          True         NaN        NaN         NaN  HYPER_EQUIPPED   \n",
       "8          True         NaN        NaN         NaN             NaN   \n",
       "9          True         NaN        NaN         NaN             NaN   \n",
       "\n",
       "   LivingRoomArea  \n",
       "0             NaN  \n",
       "1             NaN  \n",
       "2             NaN  \n",
       "3             NaN  \n",
       "4             NaN  \n",
       "5             NaN  \n",
       "6             NaN  \n",
       "7            18.0  \n",
       "8             NaN  \n",
       "9             NaN  \n",
       "\n",
       "[10 rows x 35 columns]"
      ]
     },
     "execution_count": 110,
     "metadata": {},
     "output_type": "execute_result"
    }
   ],
   "source": [
    "df.head(10)"
   ]
  },
  {
   "cell_type": "markdown",
   "id": "887ebef9",
   "metadata": {},
   "source": [
    "Then number of rows and columns"
   ]
  },
  {
   "cell_type": "code",
   "execution_count": 111,
   "id": "e9da2768",
   "metadata": {},
   "outputs": [
    {
     "name": "stdout",
     "output_type": "stream",
     "text": [
      "(21047, 35)\n"
     ]
    }
   ],
   "source": [
    "print(df.shape)"
   ]
  },
  {
   "cell_type": "code",
   "execution_count": 112,
   "id": "a5b51414",
   "metadata": {},
   "outputs": [
    {
     "data": {
      "text/html": [
       "<div>\n",
       "<style scoped>\n",
       "    .dataframe tbody tr th:only-of-type {\n",
       "        vertical-align: middle;\n",
       "    }\n",
       "\n",
       "    .dataframe tbody tr th {\n",
       "        vertical-align: top;\n",
       "    }\n",
       "\n",
       "    .dataframe thead th {\n",
       "        text-align: right;\n",
       "    }\n",
       "</style>\n",
       "<table border=\"1\" class=\"dataframe\">\n",
       "  <thead>\n",
       "    <tr style=\"text-align: right;\">\n",
       "      <th></th>\n",
       "      <th>ID</th>\n",
       "      <th>Price</th>\n",
       "      <th>NetHabitableSurface(msq)</th>\n",
       "      <th>BedroomCount</th>\n",
       "      <th>Floor</th>\n",
       "      <th>SchoolDistance</th>\n",
       "      <th>ShopDistance</th>\n",
       "      <th>TransportDistance</th>\n",
       "      <th>NetHabitableSurface</th>\n",
       "      <th>TotalRoomCount</th>\n",
       "      <th>ConstructionYear</th>\n",
       "      <th>FacadeCount</th>\n",
       "      <th>HasBalcony</th>\n",
       "      <th>GardenArea</th>\n",
       "      <th>LivingRoomArea</th>\n",
       "    </tr>\n",
       "  </thead>\n",
       "  <tbody>\n",
       "    <tr>\n",
       "      <th>count</th>\n",
       "      <td>2.104700e+04</td>\n",
       "      <td>1.943400e+04</td>\n",
       "      <td>18086.000000</td>\n",
       "      <td>20571.000000</td>\n",
       "      <td>6544.000000</td>\n",
       "      <td>16608.000000</td>\n",
       "      <td>16608.000000</td>\n",
       "      <td>16608.000000</td>\n",
       "      <td>18086.000000</td>\n",
       "      <td>1355.000000</td>\n",
       "      <td>11796.000000</td>\n",
       "      <td>13618.000000</td>\n",
       "      <td>0.0</td>\n",
       "      <td>4041.000000</td>\n",
       "      <td>6542.000000</td>\n",
       "    </tr>\n",
       "    <tr>\n",
       "      <th>mean</th>\n",
       "      <td>1.014885e+07</td>\n",
       "      <td>3.966239e+05</td>\n",
       "      <td>160.455103</td>\n",
       "      <td>2.990229</td>\n",
       "      <td>3.009169</td>\n",
       "      <td>110.087006</td>\n",
       "      <td>97.217124</td>\n",
       "      <td>27.124819</td>\n",
       "      <td>160.455103</td>\n",
       "      <td>6.740221</td>\n",
       "      <td>1984.584012</td>\n",
       "      <td>2.780291</td>\n",
       "      <td>NaN</td>\n",
       "      <td>607.726800</td>\n",
       "      <td>14.570009</td>\n",
       "    </tr>\n",
       "    <tr>\n",
       "      <th>std</th>\n",
       "      <td>1.154186e+04</td>\n",
       "      <td>4.034658e+05</td>\n",
       "      <td>222.093157</td>\n",
       "      <td>13.456484</td>\n",
       "      <td>17.840084</td>\n",
       "      <td>369.944464</td>\n",
       "      <td>572.958539</td>\n",
       "      <td>122.046176</td>\n",
       "      <td>222.093157</td>\n",
       "      <td>4.171947</td>\n",
       "      <td>111.486192</td>\n",
       "      <td>0.860917</td>\n",
       "      <td>NaN</td>\n",
       "      <td>2896.863416</td>\n",
       "      <td>40.806421</td>\n",
       "    </tr>\n",
       "    <tr>\n",
       "      <th>min</th>\n",
       "      <td>1.012819e+07</td>\n",
       "      <td>1.385000e+03</td>\n",
       "      <td>11.000000</td>\n",
       "      <td>1.000000</td>\n",
       "      <td>1.000000</td>\n",
       "      <td>0.000000</td>\n",
       "      <td>0.000000</td>\n",
       "      <td>0.000000</td>\n",
       "      <td>11.000000</td>\n",
       "      <td>1.000000</td>\n",
       "      <td>1753.000000</td>\n",
       "      <td>1.000000</td>\n",
       "      <td>NaN</td>\n",
       "      <td>1.000000</td>\n",
       "      <td>1.000000</td>\n",
       "    </tr>\n",
       "    <tr>\n",
       "      <th>25%</th>\n",
       "      <td>1.013902e+07</td>\n",
       "      <td>2.300000e+05</td>\n",
       "      <td>93.000000</td>\n",
       "      <td>2.000000</td>\n",
       "      <td>1.000000</td>\n",
       "      <td>0.000000</td>\n",
       "      <td>0.000000</td>\n",
       "      <td>0.000000</td>\n",
       "      <td>93.000000</td>\n",
       "      <td>4.000000</td>\n",
       "      <td>1961.000000</td>\n",
       "      <td>2.000000</td>\n",
       "      <td>NaN</td>\n",
       "      <td>60.000000</td>\n",
       "      <td>9.000000</td>\n",
       "    </tr>\n",
       "    <tr>\n",
       "      <th>50%</th>\n",
       "      <td>1.014958e+07</td>\n",
       "      <td>3.150000e+05</td>\n",
       "      <td>130.000000</td>\n",
       "      <td>3.000000</td>\n",
       "      <td>2.000000</td>\n",
       "      <td>0.000000</td>\n",
       "      <td>0.000000</td>\n",
       "      <td>0.000000</td>\n",
       "      <td>130.000000</td>\n",
       "      <td>6.000000</td>\n",
       "      <td>1989.000000</td>\n",
       "      <td>3.000000</td>\n",
       "      <td>NaN</td>\n",
       "      <td>150.000000</td>\n",
       "      <td>12.000000</td>\n",
       "    </tr>\n",
       "    <tr>\n",
       "      <th>75%</th>\n",
       "      <td>1.015735e+07</td>\n",
       "      <td>4.450000e+05</td>\n",
       "      <td>186.000000</td>\n",
       "      <td>3.000000</td>\n",
       "      <td>3.000000</td>\n",
       "      <td>0.000000</td>\n",
       "      <td>0.000000</td>\n",
       "      <td>0.000000</td>\n",
       "      <td>186.000000</td>\n",
       "      <td>8.000000</td>\n",
       "      <td>2021.000000</td>\n",
       "      <td>4.000000</td>\n",
       "      <td>NaN</td>\n",
       "      <td>461.000000</td>\n",
       "      <td>16.000000</td>\n",
       "    </tr>\n",
       "    <tr>\n",
       "      <th>max</th>\n",
       "      <td>1.016892e+07</td>\n",
       "      <td>2.965000e+07</td>\n",
       "      <td>17842.000000</td>\n",
       "      <td>1919.000000</td>\n",
       "      <td>999.000000</td>\n",
       "      <td>9000.000000</td>\n",
       "      <td>15000.000000</td>\n",
       "      <td>3700.000000</td>\n",
       "      <td>17842.000000</td>\n",
       "      <td>40.000000</td>\n",
       "      <td>9999.000000</td>\n",
       "      <td>8.000000</td>\n",
       "      <td>NaN</td>\n",
       "      <td>87000.000000</td>\n",
       "      <td>2153.000000</td>\n",
       "    </tr>\n",
       "  </tbody>\n",
       "</table>\n",
       "</div>"
      ],
      "text/plain": [
       "                 ID         Price  NetHabitableSurface(msq)  BedroomCount  \\\n",
       "count  2.104700e+04  1.943400e+04              18086.000000  20571.000000   \n",
       "mean   1.014885e+07  3.966239e+05                160.455103      2.990229   \n",
       "std    1.154186e+04  4.034658e+05                222.093157     13.456484   \n",
       "min    1.012819e+07  1.385000e+03                 11.000000      1.000000   \n",
       "25%    1.013902e+07  2.300000e+05                 93.000000      2.000000   \n",
       "50%    1.014958e+07  3.150000e+05                130.000000      3.000000   \n",
       "75%    1.015735e+07  4.450000e+05                186.000000      3.000000   \n",
       "max    1.016892e+07  2.965000e+07              17842.000000   1919.000000   \n",
       "\n",
       "             Floor  SchoolDistance  ShopDistance  TransportDistance  \\\n",
       "count  6544.000000    16608.000000  16608.000000       16608.000000   \n",
       "mean      3.009169      110.087006     97.217124          27.124819   \n",
       "std      17.840084      369.944464    572.958539         122.046176   \n",
       "min       1.000000        0.000000      0.000000           0.000000   \n",
       "25%       1.000000        0.000000      0.000000           0.000000   \n",
       "50%       2.000000        0.000000      0.000000           0.000000   \n",
       "75%       3.000000        0.000000      0.000000           0.000000   \n",
       "max     999.000000     9000.000000  15000.000000        3700.000000   \n",
       "\n",
       "       NetHabitableSurface  TotalRoomCount  ConstructionYear   FacadeCount  \\\n",
       "count         18086.000000     1355.000000      11796.000000  13618.000000   \n",
       "mean            160.455103        6.740221       1984.584012      2.780291   \n",
       "std             222.093157        4.171947        111.486192      0.860917   \n",
       "min              11.000000        1.000000       1753.000000      1.000000   \n",
       "25%              93.000000        4.000000       1961.000000      2.000000   \n",
       "50%             130.000000        6.000000       1989.000000      3.000000   \n",
       "75%             186.000000        8.000000       2021.000000      4.000000   \n",
       "max           17842.000000       40.000000       9999.000000      8.000000   \n",
       "\n",
       "       HasBalcony    GardenArea  LivingRoomArea  \n",
       "count         0.0   4041.000000     6542.000000  \n",
       "mean          NaN    607.726800       14.570009  \n",
       "std           NaN   2896.863416       40.806421  \n",
       "min           NaN      1.000000        1.000000  \n",
       "25%           NaN     60.000000        9.000000  \n",
       "50%           NaN    150.000000       12.000000  \n",
       "75%           NaN    461.000000       16.000000  \n",
       "max           NaN  87000.000000     2153.000000  "
      ]
     },
     "execution_count": 112,
     "metadata": {},
     "output_type": "execute_result"
    }
   ],
   "source": [
    "df.describe()"
   ]
  },
  {
   "cell_type": "markdown",
   "id": "eb0c543a",
   "metadata": {},
   "source": [
    "counting the null values for each column"
   ]
  },
  {
   "cell_type": "code",
   "execution_count": 113,
   "id": "a68ba816",
   "metadata": {},
   "outputs": [
    {
     "data": {
      "text/plain": [
       "ID                              0\n",
       "Type                            0\n",
       "Sub type                        0\n",
       "Price                        1613\n",
       "NetHabitableSurface(msq)     2961\n",
       "BedroomCount                  476\n",
       "Province                      783\n",
       "locality                        0\n",
       "Region                        783\n",
       "PostCode                        0\n",
       "street                       4534\n",
       "Floor                       14503\n",
       "RegionCode                    783\n",
       "IsIsolated                  14916\n",
       "HasSeaView                  21034\n",
       "SchoolDistance               4439\n",
       "ShopDistance                 4439\n",
       "TransportDistance            4439\n",
       "NetHabitableSurface          2961\n",
       "TotalRoomCount              19692\n",
       "HasAttic                    18348\n",
       "HasBasement                 12736\n",
       "HasDiningRoom               17630\n",
       "BuildingCondition            7041\n",
       "ConstructionYear             9251\n",
       "FacadeCount                  7429\n",
       "HasLift                     15663\n",
       "FloodZoneType                9929\n",
       "HeatingType                  8045\n",
       "IsDoubleGlaze                7467\n",
       "HasBalcony                  21047\n",
       "HasGarden                   14322\n",
       "GardenArea                  17006\n",
       "KitchekType                  8020\n",
       "LivingRoomArea              14505\n",
       "dtype: int64"
      ]
     },
     "execution_count": 113,
     "metadata": {},
     "output_type": "execute_result"
    }
   ],
   "source": [
    "df.isna().sum()"
   ]
  },
  {
   "cell_type": "code",
   "execution_count": null,
   "id": "fb56cb00",
   "metadata": {},
   "outputs": [],
   "source": []
  },
  {
   "cell_type": "markdown",
   "id": "e140baf4",
   "metadata": {},
   "source": [
    "Removing all rows with no price value"
   ]
  },
  {
   "cell_type": "code",
   "execution_count": 114,
   "id": "167c0aa9",
   "metadata": {},
   "outputs": [
    {
     "data": {
      "text/plain": [
       "(19434, 35)"
      ]
     },
     "execution_count": 114,
     "metadata": {},
     "output_type": "execute_result"
    }
   ],
   "source": [
    "df = df[df['Price'].notna()]\n",
    "df.shape"
   ]
  },
  {
   "cell_type": "markdown",
   "id": "a7300a0a",
   "metadata": {},
   "source": [
    "which rows have full information?"
   ]
  },
  {
   "cell_type": "code",
   "execution_count": 115,
   "id": "7f0103d5",
   "metadata": {},
   "outputs": [
    {
     "data": {
      "text/plain": [
       "(0, 35)"
      ]
     },
     "execution_count": 115,
     "metadata": {},
     "output_type": "execute_result"
    }
   ],
   "source": [
    "\n",
    "selected_rows = df[~df.isnull().any(axis=1)]\n",
    "selected_rows.shape"
   ]
  },
  {
   "cell_type": "markdown",
   "id": "85b05887",
   "metadata": {},
   "source": [
    "How many percent of each column value has nan "
   ]
  },
  {
   "cell_type": "code",
   "execution_count": 116,
   "id": "e2265b5a",
   "metadata": {},
   "outputs": [
    {
     "name": "stdout",
     "output_type": "stream",
     "text": [
      "ID      0\n",
      "Type      0\n",
      "Sub type      0\n",
      "Price      0\n",
      "NetHabitableSurface(msq)      14\n",
      "BedroomCount      2\n",
      "Province      4\n",
      "locality      0\n",
      "Region      4\n",
      "PostCode      0\n",
      "street      21\n",
      "Floor      71\n",
      "RegionCode      4\n",
      "IsIsolated      70\n",
      "HasSeaView      100\n",
      "SchoolDistance      21\n",
      "ShopDistance      21\n",
      "TransportDistance      21\n",
      "NetHabitableSurface      14\n",
      "TotalRoomCount      93\n",
      "HasAttic      86\n",
      "HasBasement      60\n",
      "HasDiningRoom      83\n",
      "BuildingCondition      33\n",
      "ConstructionYear      43\n",
      "FacadeCount      33\n",
      "HasLift      76\n",
      "FloodZoneType      47\n",
      "HeatingType      36\n",
      "IsDoubleGlaze      35\n",
      "HasBalcony      100\n",
      "HasGarden      67\n",
      "GardenArea      80\n",
      "KitchekType      39\n",
      "LivingRoomArea      68\n"
     ]
    }
   ],
   "source": [
    "total_rows = df.shape[0]\n",
    "p = df.isna().sum()\n",
    "index_ = p.index\n",
    "for i in index_:\n",
    "    per = (p[i]/total_rows)*100\n",
    "    print(i + \"      \"  + str(round(per))) #str((round(p[i]/total_rows)/100)))"
   ]
  },
  {
   "cell_type": "markdown",
   "id": "68914a24",
   "metadata": {},
   "source": [
    "Since house doesn't expect to have properties of having lift, let us see the ratio of apartments having lift and those who do not have lift"
   ]
  },
  {
   "cell_type": "code",
   "execution_count": 117,
   "id": "b0e282c9",
   "metadata": {},
   "outputs": [
    {
     "name": "stdout",
     "output_type": "stream",
     "text": [
      "7875\n",
      "3402\n"
     ]
    }
   ],
   "source": [
    "print((df[(df['Type'] == \"APARTMENT\")].shape[0]))\n",
    "print((df[(df['Type'] == \"APARTMENT\") & (df['HasLift'].isnull())]).shape[0])\n"
   ]
  },
  {
   "cell_type": "markdown",
   "id": "6c0c6bb7",
   "metadata": {},
   "source": [
    "Missing value for HasLift is herefor less than 50%"
   ]
  },
  {
   "cell_type": "markdown",
   "id": "2ee2a78d",
   "metadata": {},
   "source": [
    "Columns to remove\n",
    "\n",
    "ID -> no use at all\n",
    "NetHabitableSurface -> duplicate information NetHabitableSurface(msq)\n",
    "RegionCode -> will be redundant information with region name, province and post code\n",
    "\n",
    "\n",
    "School, transport and shop distance -> most of the values are 0 which doesn't seem true and a lot of nan values\n",
    "\n",
    "Remove columns which have more than 60% nan values, they will not provide enough information for decision. But will keep HasGarden column as it \n",
    "has impact on the price and the missing information probably be due to the property doesn't have garden. \n",
    "\n",
    "HasLift not applicable for houses and for apartments the missing value is less than 50% so it should not be removed\n",
    "\n"
   ]
  },
  {
   "cell_type": "code",
   "execution_count": 118,
   "id": "12a3d44c",
   "metadata": {},
   "outputs": [],
   "source": [
    "df = df.drop(['ID','Floor', 'IsIsolated', 'SchoolDistance', 'ShopDistance', 'TransportDistance', 'HasSeaView', 'RegionCode', 'TotalRoomCount', 'HasBalcony', 'GardenArea', 'HasAttic', 'HasDiningRoom', 'LivingRoomArea', 'NetHabitableSurface'], axis=1)"
   ]
  },
  {
   "cell_type": "code",
   "execution_count": 19,
   "id": "cd6fd145",
   "metadata": {},
   "outputs": [
    {
     "data": {
      "text/plain": [
       "Index(['Type', 'Sub type', 'Price', 'NetHabitableSurface(msq)', 'BedroomCount',\n",
       "       'Province', 'locality', 'Region', 'PostCode', 'street', 'HasBasement',\n",
       "       'BuildingCondition', 'ConstructionYear', 'FacadeCount', 'HasLift',\n",
       "       'FloodZoneType', 'HeatingType', 'IsDoubleGlaze', 'HasGarden',\n",
       "       'KitchekType'],\n",
       "      dtype='object')"
      ]
     },
     "execution_count": 19,
     "metadata": {},
     "output_type": "execute_result"
    }
   ],
   "source": [
    "df.columns\n"
   ]
  },
  {
   "cell_type": "code",
   "execution_count": 119,
   "id": "4e72d41c",
   "metadata": {},
   "outputs": [
    {
     "data": {
      "text/plain": [
       "(19434, 20)"
      ]
     },
     "execution_count": 119,
     "metadata": {},
     "output_type": "execute_result"
    }
   ],
   "source": [
    "df.shape"
   ]
  },
  {
   "cell_type": "markdown",
   "id": "ba3bf96f",
   "metadata": {},
   "source": []
  },
  {
   "cell_type": "markdown",
   "id": "90bf1fc5",
   "metadata": {},
   "source": [
    "Remove rows "
   ]
  },
  {
   "cell_type": "code",
   "execution_count": 120,
   "id": "c168eb47",
   "metadata": {},
   "outputs": [],
   "source": [
    "#remove rows where value of column NetHabitableSurface(17% missing) and BedroomCount(2%)is nan in order to avoid the bias from mean media or mode insertion\n",
    "#Remove rows with nan values in column province and region -> post code in that row also fault which can not be extracted from lookup table\n",
    "\n",
    "df = df.dropna(subset=['NetHabitableSurface(msq)', 'BedroomCount', 'Province', 'Region'])"
   ]
  },
  {
   "cell_type": "code",
   "execution_count": 121,
   "id": "4daa81f1",
   "metadata": {},
   "outputs": [
    {
     "data": {
      "text/plain": [
       "(15579, 20)"
      ]
     },
     "execution_count": 121,
     "metadata": {},
     "output_type": "execute_result"
    }
   ],
   "source": [
    "df.shape"
   ]
  },
  {
   "cell_type": "code",
   "execution_count": 122,
   "id": "1a87b061",
   "metadata": {},
   "outputs": [],
   "source": [
    "df = df.drop_duplicates(keep='first')\n"
   ]
  },
  {
   "cell_type": "code",
   "execution_count": 123,
   "id": "0c0a1d08",
   "metadata": {},
   "outputs": [
    {
     "data": {
      "text/plain": [
       "(13941, 20)"
      ]
     },
     "execution_count": 123,
     "metadata": {},
     "output_type": "execute_result"
    }
   ],
   "source": [
    "df.shape"
   ]
  },
  {
   "cell_type": "markdown",
   "id": "7ea11956",
   "metadata": {},
   "source": [
    "Replacing nan values\n",
    "\n",
    "Catagorical data -> new value(unknown), most frequenct value, using ml predicting model to find the missing value\n",
    "continous values -> mean, mode, median or using pridicting model"
   ]
  },
  {
   "cell_type": "code",
   "execution_count": 124,
   "id": "5ff640a6",
   "metadata": {},
   "outputs": [],
   "source": [
    "df.fillna({'IsDoubleGlaze':'Unknown','KitchekType':'Unknown','BuildingCondition':'Unknown', 'street':'Unknown' },inplace=True)"
   ]
  },
  {
   "cell_type": "code",
   "execution_count": 125,
   "id": "417c4ca1",
   "metadata": {},
   "outputs": [],
   "source": [
    "df['BuildingAge'] = 2022 - df['ConstructionYear'] "
   ]
  },
  {
   "cell_type": "code",
   "execution_count": 126,
   "id": "07b755bd",
   "metadata": {},
   "outputs": [],
   "source": [
    "df = df.drop('ConstructionYear', axis=1)"
   ]
  },
  {
   "cell_type": "code",
   "execution_count": 127,
   "id": "6b75508d",
   "metadata": {},
   "outputs": [
    {
     "name": "stdout",
     "output_type": "stream",
     "text": [
      "42\n"
     ]
    }
   ],
   "source": [
    "mean_buildingAge = round(df['BuildingAge'].mean())\n",
    "print(mean_buildingAge)"
   ]
  },
  {
   "cell_type": "code",
   "execution_count": 128,
   "id": "0b1aef02",
   "metadata": {},
   "outputs": [],
   "source": [
    "df.fillna({'BuildingAge':mean_buildingAge},inplace=True)"
   ]
  },
  {
   "cell_type": "code",
   "execution_count": 129,
   "id": "c2b60da9",
   "metadata": {},
   "outputs": [],
   "source": [
    "df.fillna({'HasLift':False, 'HasGarden': False, 'HasBasement': False},inplace=True)"
   ]
  },
  {
   "cell_type": "code",
   "execution_count": 130,
   "id": "ceddc981",
   "metadata": {},
   "outputs": [],
   "source": [
    "#heating type will be replaced by most frequent value\n",
    "mode_heatingType = df['HeatingType'].mode()[0]  #common to the community\n",
    "mode_facadeCount = df['FacadeCount'].mode()[0] # common trend\n",
    "mode_floodzone = df['FloodZoneType'].mode()[0] "
   ]
  },
  {
   "cell_type": "code",
   "execution_count": 131,
   "id": "c2ffef2b",
   "metadata": {},
   "outputs": [],
   "source": [
    "df.fillna({'HeatingType':mode_heatingType, 'FacadeCount':mode_facadeCount, 'FloodZoneType': mode_floodzone}, inplace=True)"
   ]
  },
  {
   "cell_type": "code",
   "execution_count": 132,
   "id": "5f95be6b",
   "metadata": {},
   "outputs": [
    {
     "data": {
      "text/html": [
       "<div>\n",
       "<style scoped>\n",
       "    .dataframe tbody tr th:only-of-type {\n",
       "        vertical-align: middle;\n",
       "    }\n",
       "\n",
       "    .dataframe tbody tr th {\n",
       "        vertical-align: top;\n",
       "    }\n",
       "\n",
       "    .dataframe thead th {\n",
       "        text-align: right;\n",
       "    }\n",
       "</style>\n",
       "<table border=\"1\" class=\"dataframe\">\n",
       "  <thead>\n",
       "    <tr style=\"text-align: right;\">\n",
       "      <th></th>\n",
       "      <th>Type</th>\n",
       "      <th>Sub type</th>\n",
       "      <th>Price</th>\n",
       "      <th>NetHabitableSurface(msq)</th>\n",
       "      <th>BedroomCount</th>\n",
       "      <th>Province</th>\n",
       "      <th>locality</th>\n",
       "      <th>Region</th>\n",
       "      <th>PostCode</th>\n",
       "      <th>street</th>\n",
       "      <th>HasBasement</th>\n",
       "      <th>BuildingCondition</th>\n",
       "      <th>FacadeCount</th>\n",
       "      <th>HasLift</th>\n",
       "      <th>FloodZoneType</th>\n",
       "      <th>HeatingType</th>\n",
       "      <th>IsDoubleGlaze</th>\n",
       "      <th>HasGarden</th>\n",
       "      <th>KitchekType</th>\n",
       "      <th>BuildingAge</th>\n",
       "    </tr>\n",
       "  </thead>\n",
       "  <tbody>\n",
       "    <tr>\n",
       "      <th>0</th>\n",
       "      <td>HOUSE</td>\n",
       "      <td>HOUSE</td>\n",
       "      <td>328330.0</td>\n",
       "      <td>148.0</td>\n",
       "      <td>3.0</td>\n",
       "      <td>Limburg</td>\n",
       "      <td>Zonhoven</td>\n",
       "      <td>Flanders</td>\n",
       "      <td>3520</td>\n",
       "      <td>Sparrenweg</td>\n",
       "      <td>False</td>\n",
       "      <td>Unknown</td>\n",
       "      <td>3.0</td>\n",
       "      <td>False</td>\n",
       "      <td>NON_FLOOD_ZONE</td>\n",
       "      <td>GAS</td>\n",
       "      <td>True</td>\n",
       "      <td>True</td>\n",
       "      <td>Unknown</td>\n",
       "      <td>42.0</td>\n",
       "    </tr>\n",
       "    <tr>\n",
       "      <th>1</th>\n",
       "      <td>HOUSE</td>\n",
       "      <td>HOUSE</td>\n",
       "      <td>328330.0</td>\n",
       "      <td>148.0</td>\n",
       "      <td>3.0</td>\n",
       "      <td>Limburg</td>\n",
       "      <td>Zonhoven</td>\n",
       "      <td>Flanders</td>\n",
       "      <td>3520</td>\n",
       "      <td>Ruddelstraat</td>\n",
       "      <td>False</td>\n",
       "      <td>Unknown</td>\n",
       "      <td>3.0</td>\n",
       "      <td>False</td>\n",
       "      <td>NON_FLOOD_ZONE</td>\n",
       "      <td>GAS</td>\n",
       "      <td>True</td>\n",
       "      <td>True</td>\n",
       "      <td>Unknown</td>\n",
       "      <td>42.0</td>\n",
       "    </tr>\n",
       "    <tr>\n",
       "      <th>2</th>\n",
       "      <td>HOUSE</td>\n",
       "      <td>HOUSE</td>\n",
       "      <td>327829.0</td>\n",
       "      <td>148.0</td>\n",
       "      <td>3.0</td>\n",
       "      <td>Limburg</td>\n",
       "      <td>Zonhoven</td>\n",
       "      <td>Flanders</td>\n",
       "      <td>3520</td>\n",
       "      <td>Ruddelstraat</td>\n",
       "      <td>False</td>\n",
       "      <td>Unknown</td>\n",
       "      <td>3.0</td>\n",
       "      <td>False</td>\n",
       "      <td>NON_FLOOD_ZONE</td>\n",
       "      <td>GAS</td>\n",
       "      <td>True</td>\n",
       "      <td>True</td>\n",
       "      <td>Unknown</td>\n",
       "      <td>42.0</td>\n",
       "    </tr>\n",
       "    <tr>\n",
       "      <th>4</th>\n",
       "      <td>HOUSE</td>\n",
       "      <td>HOUSE</td>\n",
       "      <td>378242.0</td>\n",
       "      <td>148.0</td>\n",
       "      <td>3.0</td>\n",
       "      <td>Limburg</td>\n",
       "      <td>Zonhoven</td>\n",
       "      <td>Flanders</td>\n",
       "      <td>3520</td>\n",
       "      <td>Ruddelstraat</td>\n",
       "      <td>False</td>\n",
       "      <td>Unknown</td>\n",
       "      <td>4.0</td>\n",
       "      <td>False</td>\n",
       "      <td>NON_FLOOD_ZONE</td>\n",
       "      <td>GAS</td>\n",
       "      <td>True</td>\n",
       "      <td>True</td>\n",
       "      <td>Unknown</td>\n",
       "      <td>42.0</td>\n",
       "    </tr>\n",
       "    <tr>\n",
       "      <th>5</th>\n",
       "      <td>HOUSE</td>\n",
       "      <td>HOUSE</td>\n",
       "      <td>1295000.0</td>\n",
       "      <td>650.0</td>\n",
       "      <td>5.0</td>\n",
       "      <td>Antwerp</td>\n",
       "      <td>Berlaar</td>\n",
       "      <td>Flanders</td>\n",
       "      <td>2590</td>\n",
       "      <td>Markt</td>\n",
       "      <td>True</td>\n",
       "      <td>GOOD</td>\n",
       "      <td>3.0</td>\n",
       "      <td>False</td>\n",
       "      <td>NON_FLOOD_ZONE</td>\n",
       "      <td>GAS</td>\n",
       "      <td>True</td>\n",
       "      <td>False</td>\n",
       "      <td>INSTALLED</td>\n",
       "      <td>42.0</td>\n",
       "    </tr>\n",
       "    <tr>\n",
       "      <th>...</th>\n",
       "      <td>...</td>\n",
       "      <td>...</td>\n",
       "      <td>...</td>\n",
       "      <td>...</td>\n",
       "      <td>...</td>\n",
       "      <td>...</td>\n",
       "      <td>...</td>\n",
       "      <td>...</td>\n",
       "      <td>...</td>\n",
       "      <td>...</td>\n",
       "      <td>...</td>\n",
       "      <td>...</td>\n",
       "      <td>...</td>\n",
       "      <td>...</td>\n",
       "      <td>...</td>\n",
       "      <td>...</td>\n",
       "      <td>...</td>\n",
       "      <td>...</td>\n",
       "      <td>...</td>\n",
       "      <td>...</td>\n",
       "    </tr>\n",
       "    <tr>\n",
       "      <th>21041</th>\n",
       "      <td>APARTMENT</td>\n",
       "      <td>APARTMENT</td>\n",
       "      <td>259000.0</td>\n",
       "      <td>78.0</td>\n",
       "      <td>2.0</td>\n",
       "      <td>West Flanders</td>\n",
       "      <td>Kortrijk</td>\n",
       "      <td>Flanders</td>\n",
       "      <td>8500</td>\n",
       "      <td>Pieter de Cockelaerestraat</td>\n",
       "      <td>True</td>\n",
       "      <td>JUST_RENOVATED</td>\n",
       "      <td>2.0</td>\n",
       "      <td>False</td>\n",
       "      <td>NON_FLOOD_ZONE</td>\n",
       "      <td>GAS</td>\n",
       "      <td>True</td>\n",
       "      <td>True</td>\n",
       "      <td>INSTALLED</td>\n",
       "      <td>42.0</td>\n",
       "    </tr>\n",
       "    <tr>\n",
       "      <th>21042</th>\n",
       "      <td>HOUSE</td>\n",
       "      <td>HOUSE</td>\n",
       "      <td>398000.0</td>\n",
       "      <td>145.0</td>\n",
       "      <td>3.0</td>\n",
       "      <td>Flemish Brabant</td>\n",
       "      <td>Kessel-Lo</td>\n",
       "      <td>Flanders</td>\n",
       "      <td>3010</td>\n",
       "      <td>Guldensporenlaan</td>\n",
       "      <td>True</td>\n",
       "      <td>Unknown</td>\n",
       "      <td>2.0</td>\n",
       "      <td>False</td>\n",
       "      <td>NON_FLOOD_ZONE</td>\n",
       "      <td>FUELOIL</td>\n",
       "      <td>Unknown</td>\n",
       "      <td>True</td>\n",
       "      <td>INSTALLED</td>\n",
       "      <td>60.0</td>\n",
       "    </tr>\n",
       "    <tr>\n",
       "      <th>21043</th>\n",
       "      <td>APARTMENT</td>\n",
       "      <td>APARTMENT</td>\n",
       "      <td>219000.0</td>\n",
       "      <td>95.0</td>\n",
       "      <td>2.0</td>\n",
       "      <td>West Flanders</td>\n",
       "      <td>Brugge</td>\n",
       "      <td>Flanders</td>\n",
       "      <td>8000</td>\n",
       "      <td>Hoefijzerlaan</td>\n",
       "      <td>False</td>\n",
       "      <td>AS_NEW</td>\n",
       "      <td>2.0</td>\n",
       "      <td>False</td>\n",
       "      <td>NON_FLOOD_ZONE</td>\n",
       "      <td>GAS</td>\n",
       "      <td>True</td>\n",
       "      <td>False</td>\n",
       "      <td>Unknown</td>\n",
       "      <td>42.0</td>\n",
       "    </tr>\n",
       "    <tr>\n",
       "      <th>21044</th>\n",
       "      <td>HOUSE</td>\n",
       "      <td>HOUSE</td>\n",
       "      <td>345000.0</td>\n",
       "      <td>166.0</td>\n",
       "      <td>3.0</td>\n",
       "      <td>Antwerp</td>\n",
       "      <td>Schriek</td>\n",
       "      <td>Flanders</td>\n",
       "      <td>2223</td>\n",
       "      <td>Tuindijk</td>\n",
       "      <td>False</td>\n",
       "      <td>Unknown</td>\n",
       "      <td>2.0</td>\n",
       "      <td>False</td>\n",
       "      <td>NON_FLOOD_ZONE</td>\n",
       "      <td>GAS</td>\n",
       "      <td>True</td>\n",
       "      <td>False</td>\n",
       "      <td>HYPER_EQUIPPED</td>\n",
       "      <td>56.0</td>\n",
       "    </tr>\n",
       "    <tr>\n",
       "      <th>21046</th>\n",
       "      <td>HOUSE</td>\n",
       "      <td>HOUSE</td>\n",
       "      <td>129000.0</td>\n",
       "      <td>144.0</td>\n",
       "      <td>4.0</td>\n",
       "      <td>West Flanders</td>\n",
       "      <td>Menen</td>\n",
       "      <td>Flanders</td>\n",
       "      <td>8930</td>\n",
       "      <td>Gen. Lemanstraat</td>\n",
       "      <td>False</td>\n",
       "      <td>Unknown</td>\n",
       "      <td>2.0</td>\n",
       "      <td>False</td>\n",
       "      <td>NON_FLOOD_ZONE</td>\n",
       "      <td>GAS</td>\n",
       "      <td>True</td>\n",
       "      <td>False</td>\n",
       "      <td>Unknown</td>\n",
       "      <td>42.0</td>\n",
       "    </tr>\n",
       "  </tbody>\n",
       "</table>\n",
       "<p>13941 rows × 20 columns</p>\n",
       "</div>"
      ],
      "text/plain": [
       "            Type   Sub type      Price  NetHabitableSurface(msq)  \\\n",
       "0          HOUSE      HOUSE   328330.0                     148.0   \n",
       "1          HOUSE      HOUSE   328330.0                     148.0   \n",
       "2          HOUSE      HOUSE   327829.0                     148.0   \n",
       "4          HOUSE      HOUSE   378242.0                     148.0   \n",
       "5          HOUSE      HOUSE  1295000.0                     650.0   \n",
       "...          ...        ...        ...                       ...   \n",
       "21041  APARTMENT  APARTMENT   259000.0                      78.0   \n",
       "21042      HOUSE      HOUSE   398000.0                     145.0   \n",
       "21043  APARTMENT  APARTMENT   219000.0                      95.0   \n",
       "21044      HOUSE      HOUSE   345000.0                     166.0   \n",
       "21046      HOUSE      HOUSE   129000.0                     144.0   \n",
       "\n",
       "       BedroomCount         Province   locality    Region PostCode  \\\n",
       "0               3.0          Limburg   Zonhoven  Flanders     3520   \n",
       "1               3.0          Limburg   Zonhoven  Flanders     3520   \n",
       "2               3.0          Limburg   Zonhoven  Flanders     3520   \n",
       "4               3.0          Limburg   Zonhoven  Flanders     3520   \n",
       "5               5.0          Antwerp    Berlaar  Flanders     2590   \n",
       "...             ...              ...        ...       ...      ...   \n",
       "21041           2.0    West Flanders   Kortrijk  Flanders     8500   \n",
       "21042           3.0  Flemish Brabant  Kessel-Lo  Flanders     3010   \n",
       "21043           2.0    West Flanders     Brugge  Flanders     8000   \n",
       "21044           3.0          Antwerp    Schriek  Flanders     2223   \n",
       "21046           4.0    West Flanders      Menen  Flanders     8930   \n",
       "\n",
       "                           street  HasBasement BuildingCondition  FacadeCount  \\\n",
       "0                      Sparrenweg        False           Unknown          3.0   \n",
       "1                    Ruddelstraat        False           Unknown          3.0   \n",
       "2                    Ruddelstraat        False           Unknown          3.0   \n",
       "4                    Ruddelstraat        False           Unknown          4.0   \n",
       "5                           Markt         True              GOOD          3.0   \n",
       "...                           ...          ...               ...          ...   \n",
       "21041  Pieter de Cockelaerestraat         True    JUST_RENOVATED          2.0   \n",
       "21042            Guldensporenlaan         True           Unknown          2.0   \n",
       "21043               Hoefijzerlaan        False            AS_NEW          2.0   \n",
       "21044                    Tuindijk        False           Unknown          2.0   \n",
       "21046            Gen. Lemanstraat        False           Unknown          2.0   \n",
       "\n",
       "       HasLift   FloodZoneType HeatingType IsDoubleGlaze  HasGarden  \\\n",
       "0        False  NON_FLOOD_ZONE         GAS          True       True   \n",
       "1        False  NON_FLOOD_ZONE         GAS          True       True   \n",
       "2        False  NON_FLOOD_ZONE         GAS          True       True   \n",
       "4        False  NON_FLOOD_ZONE         GAS          True       True   \n",
       "5        False  NON_FLOOD_ZONE         GAS          True      False   \n",
       "...        ...             ...         ...           ...        ...   \n",
       "21041    False  NON_FLOOD_ZONE         GAS          True       True   \n",
       "21042    False  NON_FLOOD_ZONE     FUELOIL       Unknown       True   \n",
       "21043    False  NON_FLOOD_ZONE         GAS          True      False   \n",
       "21044    False  NON_FLOOD_ZONE         GAS          True      False   \n",
       "21046    False  NON_FLOOD_ZONE         GAS          True      False   \n",
       "\n",
       "          KitchekType  BuildingAge  \n",
       "0             Unknown         42.0  \n",
       "1             Unknown         42.0  \n",
       "2             Unknown         42.0  \n",
       "4             Unknown         42.0  \n",
       "5           INSTALLED         42.0  \n",
       "...               ...          ...  \n",
       "21041       INSTALLED         42.0  \n",
       "21042       INSTALLED         60.0  \n",
       "21043         Unknown         42.0  \n",
       "21044  HYPER_EQUIPPED         56.0  \n",
       "21046         Unknown         42.0  \n",
       "\n",
       "[13941 rows x 20 columns]"
      ]
     },
     "execution_count": 132,
     "metadata": {},
     "output_type": "execute_result"
    }
   ],
   "source": [
    "df"
   ]
  },
  {
   "cell_type": "markdown",
   "id": "23692004",
   "metadata": {},
   "source": [
    "Analysis"
   ]
  },
  {
   "cell_type": "code",
   "execution_count": 240,
   "id": "da09826b",
   "metadata": {},
   "outputs": [
    {
     "name": "stderr",
     "output_type": "stream",
     "text": [
      "C:\\Users\\genet\\AppData\\Local\\Temp\\ipykernel_6516\\505250836.py:2: FutureWarning: The default value of numeric_only in DataFrame.corr is deprecated. In a future version, it will default to False. Select only valid columns or specify the value of numeric_only to silence this warning.\n",
      "  corr = df.corr(method='spearman')\n"
     ]
    },
    {
     "data": {
      "image/png": "[encoded data removed]",
      "text/plain": [
       "<Figure size 640x480 with 2 Axes>"
      ]
     },
     "metadata": {},
     "output_type": "display_data"
    }
   ],
   "source": [
    "# corr.style.background_gradient(cmap='coolwarm')\n",
    "corr = df.corr(method='spearman')\n",
    "heatmap = sns.heatmap(corr, annot=True, cmap=\"Blues\", fmt='.1g')"
   ]
  },
  {
   "cell_type": "code",
   "execution_count": 225,
   "id": "b9cca42a",
   "metadata": {},
   "outputs": [],
   "source": [
    "# sns.pairplot(df, kind=\"reg\")\n",
    "\n"
   ]
  },
  {
   "cell_type": "markdown",
   "id": "9a1cb32e",
   "metadata": {},
   "source": [
    "Detecting and dealing with outliers"
   ]
  },
  {
   "cell_type": "code",
   "execution_count": 137,
   "id": "296719a2",
   "metadata": {},
   "outputs": [
    {
     "data": {
      "text/plain": [
       "(13941, 20)"
      ]
     },
     "execution_count": 137,
     "metadata": {},
     "output_type": "execute_result"
    }
   ],
   "source": [
    "df.shape"
   ]
  },
  {
   "cell_type": "code",
   "execution_count": 140,
   "id": "b95cdd3e",
   "metadata": {},
   "outputs": [],
   "source": [
    "\n",
    "def get_iqr_values(df_in, col_name):\n",
    "    median = df_in[col_name].median()\n",
    "    q1 = df_in[col_name].quantile(0.25) # 25th percentile / 1st quartile\n",
    "    q3 = df_in[col_name].quantile(0.75) # 7th percentile / 3rd quartile\n",
    "    iqr = q3-q1 #Interquartile range\n",
    "    minimum  = q1-1.5*iqr # The minimum value or the |- marker in the box plot\n",
    "    maximum = q3+1.5*iqr # The maximum value or the -| marker in the box plot\n",
    "    return median, q1, q3, iqr, minimum, maximum\n",
    "\n",
    "def get_iqr_text(df_in, col_name):\n",
    "    median, q1, q3, iqr, minimum, maximum = get_iqr_values(df_in, col_name)\n",
    "    text = f\"median={median:.2f}, q1={q1:.2f}, q3={q3:.2f}, iqr={iqr:.2f}, minimum={minimum:.2f}, maximum={maximum:.2f}\"\n",
    "    return text\n",
    "\n",
    "def remove_outliers(df_in, col_name):\n",
    "    _, _, _, _, minimum, maximum = get_iqr_values(df_in, col_name)\n",
    "    df_out = df_in.loc[(df_in[col_name] > minimum) & (df_in[col_name] < maximum)]\n",
    "    return df_out\n",
    "\n",
    "def count_outliers(df_in, col_name):\n",
    "    _, _, _, _, minimum, maximum = get_iqr_values(df_in, col_name)\n",
    "    df_outliers = df_in.loc[(df_in[col_name] <= minimum) | (df_in[col_name] >= maximum)]\n",
    "    return df_outliers.shape[0]\n",
    "\n",
    "def box_and_whisker(df_in, col_name):\n",
    "    title = get_iqr_text(df_in, col_name)\n",
    "    sns.boxplot(df_in[col_name])\n",
    "    plt.title(title)\n",
    "    plt.show()"
   ]
  },
  {
   "cell_type": "code",
   "execution_count": 241,
   "id": "ae07f12f",
   "metadata": {},
   "outputs": [],
   "source": [
    "\n",
    "col_names_toremove_outliers = ['Price', 'NetHabitableSurface(msq)',\t'BedroomCount',\t'FacadeCount',\t'BuildingAge']\n",
    "df_out=df\n",
    "for col in col_names_toremove_outliers:\n",
    "    df_out=  remove_outliers(df_out, col)\n",
    "\n",
    "\n"
   ]
  },
  {
   "cell_type": "code",
   "execution_count": 242,
   "id": "58c2e980",
   "metadata": {},
   "outputs": [
    {
     "data": {
      "text/plain": [
       "<Figure size 800x1000 with 0 Axes>"
      ]
     },
     "metadata": {},
     "output_type": "display_data"
    },
    {
     "data": {
      "image/png": "[encoded data removed]",
      "text/plain": [
       "<Figure size 640x480 with 6 Axes>"
      ]
     },
     "metadata": {},
     "output_type": "display_data"
    }
   ],
   "source": [
    "plt.figure(figsize=(8,10))\n",
    "df_out.hist()\n",
    "plt.show()"
   ]
  },
  {
   "cell_type": "code",
   "execution_count": 166,
   "id": "ab230f51",
   "metadata": {},
   "outputs": [],
   "source": []
  },
  {
   "cell_type": "code",
   "execution_count": 218,
   "id": "f3a7c51b",
   "metadata": {},
   "outputs": [
    {
     "data": {
      "image/png": "[encoded data removed]",
      "text/plain": [
       "<Figure size 1200x1000 with 10 Axes>"
      ]
     },
     "metadata": {},
     "output_type": "display_data"
    }
   ],
   "source": [
    "#['Price', 'NetHabitableSurface(msq)',\t'BedroomCount',\t'FacadeCount',\t'BuildingAge']\n",
    "from matplotlib.pyplot import xlabel\n",
    "\n",
    "\n",
    "fig, axs = plt.subplots(5,2,figsize=(12,10), sharex=True)\n",
    "\n",
    "ax1=  sns.boxplot(df['Price'], ax=axs[0][0])\n",
    "ax1.set_title('before outlier removed')\n",
    "ax1.set(ylabel='Price')\n",
    "ax2=  sns.boxplot(df_out['Price'], ax=axs[0][1])\n",
    "ax2.set_title('After outlier removed')\n",
    "\n",
    "ax3=  sns.boxplot(df['NetHabitableSurface(msq)'], ax=axs[1][0])\n",
    "ax4=  sns.boxplot(df_out['NetHabitableSurface(msq)'], ax=axs[1][1])\n",
    "ax3.set(ylabel='HabitableSurface')\n",
    "\n",
    "ax5=  sns.boxplot(df['BedroomCount'], ax=axs[2][0])\n",
    "ax6=  sns.boxplot(df_out['BedroomCount'], ax=axs[2][1])\n",
    "ax5.set(ylabel='BedroomCount')\n",
    "\n",
    "ax7=  sns.boxplot(df['BuildingAge'], ax=axs[3][0])\n",
    "ax8=  sns.boxplot(df_out['BuildingAge'], ax=axs[3][1])\n",
    "ax7.set(ylabel='BuildingAge')\n",
    "\n",
    "ax9=  sns.boxplot(df['FacadeCount'], ax=axs[4][0])\n",
    "ax10=  sns.boxplot(df_out['FacadeCount'], ax=axs[4][1])\n",
    "ax9.set(ylabel='FacadeCount')\n",
    "\n",
    "# df.plot.box(sym=\"r+\")\n",
    "\n",
    "plt.show()\n"
   ]
  },
  {
   "cell_type": "code",
   "execution_count": null,
   "id": "e3b71533",
   "metadata": {},
   "outputs": [],
   "source": [
    "cols_categorical = ['HasBasement', 'HasLift', 'FloodZoneType', 'HeatingType', 'IsDoubleGlaze', 'HasGarden', 'KitchekType', 'Province', 'locality', 'Region','BuildingCondition']\n"
   ]
  },
  {
   "cell_type": "code",
   "execution_count": 250,
   "id": "a683396a",
   "metadata": {},
   "outputs": [
    {
     "ename": "KeyboardInterrupt",
     "evalue": "",
     "output_type": "error",
     "traceback": [
      "\u001b[1;31m---------------------------------------------------------------------------\u001b[0m",
      "\u001b[1;31mKeyboardInterrupt\u001b[0m                         Traceback (most recent call last)",
      "Cell \u001b[1;32mIn [250], line 1\u001b[0m\n\u001b[1;32m----> 1\u001b[0m df\u001b[39m.\u001b[39;49mplot(x\u001b[39m=\u001b[39;49m\u001b[39m\"\u001b[39;49m\u001b[39mRegion\u001b[39;49m\u001b[39m\"\u001b[39;49m, y\u001b[39m=\u001b[39;49m\u001b[39m\"\u001b[39;49m\u001b[39mPrice\u001b[39;49m\u001b[39m\"\u001b[39;49m, kind\u001b[39m=\u001b[39;49m\u001b[39m\"\u001b[39;49m\u001b[39mbar\u001b[39;49m\u001b[39m\"\u001b[39;49m)\n\u001b[0;32m      3\u001b[0m plt\u001b[39m.\u001b[39mshow()\n",
      "File \u001b[1;32mc:\\BeCode\\LocalRepos\\VirtualEnvs\\realestate_price_prediction\\lib\\site-packages\\pandas\\plotting\\_core.py:1001\u001b[0m, in \u001b[0;36mPlotAccessor.__call__\u001b[1;34m(self, *args, **kwargs)\u001b[0m\n\u001b[0;32m    998\u001b[0m             label_name \u001b[39m=\u001b[39m label_kw \u001b[39mor\u001b[39;00m data\u001b[39m.\u001b[39mcolumns\n\u001b[0;32m    999\u001b[0m             data\u001b[39m.\u001b[39mcolumns \u001b[39m=\u001b[39m label_name\n\u001b[1;32m-> 1001\u001b[0m \u001b[39mreturn\u001b[39;00m plot_backend\u001b[39m.\u001b[39mplot(data, kind\u001b[39m=\u001b[39mkind, \u001b[39m*\u001b[39m\u001b[39m*\u001b[39mkwargs)\n",
      "File \u001b[1;32mc:\\BeCode\\LocalRepos\\VirtualEnvs\\realestate_price_prediction\\lib\\site-packages\\pandas\\plotting\\_matplotlib\\__init__.py:71\u001b[0m, in \u001b[0;36mplot\u001b[1;34m(data, kind, **kwargs)\u001b[0m\n\u001b[0;32m     69\u001b[0m         kwargs[\u001b[39m\"\u001b[39m\u001b[39max\u001b[39m\u001b[39m\"\u001b[39m] \u001b[39m=\u001b[39m \u001b[39mgetattr\u001b[39m(ax, \u001b[39m\"\u001b[39m\u001b[39mleft_ax\u001b[39m\u001b[39m\"\u001b[39m, ax)\n\u001b[0;32m     70\u001b[0m plot_obj \u001b[39m=\u001b[39m PLOT_CLASSES[kind](data, \u001b[39m*\u001b[39m\u001b[39m*\u001b[39mkwargs)\n\u001b[1;32m---> 71\u001b[0m plot_obj\u001b[39m.\u001b[39;49mgenerate()\n\u001b[0;32m     72\u001b[0m plot_obj\u001b[39m.\u001b[39mdraw()\n\u001b[0;32m     73\u001b[0m \u001b[39mreturn\u001b[39;00m plot_obj\u001b[39m.\u001b[39mresult\n",
      "File \u001b[1;32mc:\\BeCode\\LocalRepos\\VirtualEnvs\\realestate_price_prediction\\lib\\site-packages\\pandas\\plotting\\_matplotlib\\core.py:453\u001b[0m, in \u001b[0;36mMPLPlot.generate\u001b[1;34m(self)\u001b[0m\n\u001b[0;32m    451\u001b[0m \u001b[39mself\u001b[39m\u001b[39m.\u001b[39m_compute_plot_data()\n\u001b[0;32m    452\u001b[0m \u001b[39mself\u001b[39m\u001b[39m.\u001b[39m_setup_subplots()\n\u001b[1;32m--> 453\u001b[0m \u001b[39mself\u001b[39;49m\u001b[39m.\u001b[39;49m_make_plot()\n\u001b[0;32m    454\u001b[0m \u001b[39mself\u001b[39m\u001b[39m.\u001b[39m_add_table()\n\u001b[0;32m    455\u001b[0m \u001b[39mself\u001b[39m\u001b[39m.\u001b[39m_make_legend()\n",
      "File \u001b[1;32mc:\\BeCode\\LocalRepos\\VirtualEnvs\\realestate_price_prediction\\lib\\site-packages\\pandas\\plotting\\_matplotlib\\core.py:1716\u001b[0m, in \u001b[0;36mBarPlot._make_plot\u001b[1;34m(self)\u001b[0m\n\u001b[0;32m   1714\u001b[0m \u001b[39melse\u001b[39;00m:\n\u001b[0;32m   1715\u001b[0m     w \u001b[39m=\u001b[39m \u001b[39mself\u001b[39m\u001b[39m.\u001b[39mbar_width \u001b[39m/\u001b[39m K\n\u001b[1;32m-> 1716\u001b[0m     rect \u001b[39m=\u001b[39m \u001b[39mself\u001b[39m\u001b[39m.\u001b[39m_plot(\n\u001b[0;32m   1717\u001b[0m         ax,\n\u001b[0;32m   1718\u001b[0m         \u001b[39mself\u001b[39m\u001b[39m.\u001b[39max_pos \u001b[39m+\u001b[39m (i \u001b[39m+\u001b[39m \u001b[39m0.5\u001b[39m) \u001b[39m*\u001b[39m w,\n\u001b[0;32m   1719\u001b[0m         y,\n\u001b[0;32m   1720\u001b[0m         w,\n\u001b[0;32m   1721\u001b[0m         start\u001b[39m=\u001b[39mstart,\n\u001b[0;32m   1722\u001b[0m         label\u001b[39m=\u001b[39mlabel,\n\u001b[0;32m   1723\u001b[0m         log\u001b[39m=\u001b[39m\u001b[39mself\u001b[39m\u001b[39m.\u001b[39mlog,\n\u001b[0;32m   1724\u001b[0m         \u001b[39m*\u001b[39m\u001b[39m*\u001b[39mkwds,\n\u001b[0;32m   1725\u001b[0m     )\n\u001b[0;32m   1726\u001b[0m \u001b[39mself\u001b[39m\u001b[39m.\u001b[39m_append_legend_handles_labels(rect, label)\n",
      "File \u001b[1;32mc:\\BeCode\\LocalRepos\\VirtualEnvs\\realestate_price_prediction\\lib\\site-packages\\pandas\\plotting\\_matplotlib\\core.py:1646\u001b[0m, in \u001b[0;36mBarPlot._plot\u001b[1;34m(cls, ax, x, y, w, start, log, **kwds)\u001b[0m\n\u001b[0;32m   1642\u001b[0m \u001b[39m@classmethod\u001b[39m\n\u001b[0;32m   1643\u001b[0m \u001b[39mdef\u001b[39;00m \u001b[39m_plot\u001b[39m(  \u001b[39m# type: ignore[override]\u001b[39;00m\n\u001b[0;32m   1644\u001b[0m     \u001b[39mcls\u001b[39m, ax: Axes, x, y, w, start\u001b[39m=\u001b[39m\u001b[39m0\u001b[39m, log\u001b[39m=\u001b[39m\u001b[39mFalse\u001b[39;00m, \u001b[39m*\u001b[39m\u001b[39m*\u001b[39mkwds\n\u001b[0;32m   1645\u001b[0m ):\n\u001b[1;32m-> 1646\u001b[0m     \u001b[39mreturn\u001b[39;00m ax\u001b[39m.\u001b[39mbar(x, y, w, bottom\u001b[39m=\u001b[39mstart, log\u001b[39m=\u001b[39mlog, \u001b[39m*\u001b[39m\u001b[39m*\u001b[39mkwds)\n",
      "File \u001b[1;32mc:\\BeCode\\LocalRepos\\VirtualEnvs\\realestate_price_prediction\\lib\\site-packages\\matplotlib\\__init__.py:1423\u001b[0m, in \u001b[0;36m_preprocess_data.<locals>.inner\u001b[1;34m(ax, data, *args, **kwargs)\u001b[0m\n\u001b[0;32m   1420\u001b[0m \u001b[39m@functools\u001b[39m\u001b[39m.\u001b[39mwraps(func)\n\u001b[0;32m   1421\u001b[0m \u001b[39mdef\u001b[39;00m \u001b[39minner\u001b[39m(ax, \u001b[39m*\u001b[39margs, data\u001b[39m=\u001b[39m\u001b[39mNone\u001b[39;00m, \u001b[39m*\u001b[39m\u001b[39m*\u001b[39mkwargs):\n\u001b[0;32m   1422\u001b[0m     \u001b[39mif\u001b[39;00m data \u001b[39mis\u001b[39;00m \u001b[39mNone\u001b[39;00m:\n\u001b[1;32m-> 1423\u001b[0m         \u001b[39mreturn\u001b[39;00m func(ax, \u001b[39m*\u001b[39m\u001b[39mmap\u001b[39m(sanitize_sequence, args), \u001b[39m*\u001b[39m\u001b[39m*\u001b[39mkwargs)\n\u001b[0;32m   1425\u001b[0m     bound \u001b[39m=\u001b[39m new_sig\u001b[39m.\u001b[39mbind(ax, \u001b[39m*\u001b[39margs, \u001b[39m*\u001b[39m\u001b[39m*\u001b[39mkwargs)\n\u001b[0;32m   1426\u001b[0m     auto_label \u001b[39m=\u001b[39m (bound\u001b[39m.\u001b[39marguments\u001b[39m.\u001b[39mget(label_namer)\n\u001b[0;32m   1427\u001b[0m                   \u001b[39mor\u001b[39;00m bound\u001b[39m.\u001b[39mkwargs\u001b[39m.\u001b[39mget(label_namer))\n",
      "File \u001b[1;32mc:\\BeCode\\LocalRepos\\VirtualEnvs\\realestate_price_prediction\\lib\\site-packages\\matplotlib\\axes\\_axes.py:2460\u001b[0m, in \u001b[0;36mAxes.bar\u001b[1;34m(self, x, height, width, bottom, align, **kwargs)\u001b[0m\n\u001b[0;32m   2458\u001b[0m     \u001b[39melse\u001b[39;00m:  \u001b[39m# horizontal\u001b[39;00m\n\u001b[0;32m   2459\u001b[0m         r\u001b[39m.\u001b[39msticky_edges\u001b[39m.\u001b[39mx\u001b[39m.\u001b[39mappend(l)\n\u001b[1;32m-> 2460\u001b[0m     \u001b[39mself\u001b[39;49m\u001b[39m.\u001b[39;49madd_patch(r)\n\u001b[0;32m   2461\u001b[0m     patches\u001b[39m.\u001b[39mappend(r)\n\u001b[0;32m   2463\u001b[0m \u001b[39mif\u001b[39;00m xerr \u001b[39mis\u001b[39;00m \u001b[39mnot\u001b[39;00m \u001b[39mNone\u001b[39;00m \u001b[39mor\u001b[39;00m yerr \u001b[39mis\u001b[39;00m \u001b[39mnot\u001b[39;00m \u001b[39mNone\u001b[39;00m:\n",
      "File \u001b[1;32mc:\\BeCode\\LocalRepos\\VirtualEnvs\\realestate_price_prediction\\lib\\site-packages\\matplotlib\\axes\\_base.py:2415\u001b[0m, in \u001b[0;36m_AxesBase.add_patch\u001b[1;34m(self, p)\u001b[0m\n\u001b[0;32m   2413\u001b[0m \u001b[39mif\u001b[39;00m p\u001b[39m.\u001b[39mget_clip_path() \u001b[39mis\u001b[39;00m \u001b[39mNone\u001b[39;00m:\n\u001b[0;32m   2414\u001b[0m     p\u001b[39m.\u001b[39mset_clip_path(\u001b[39mself\u001b[39m\u001b[39m.\u001b[39mpatch)\n\u001b[1;32m-> 2415\u001b[0m \u001b[39mself\u001b[39;49m\u001b[39m.\u001b[39;49m_update_patch_limits(p)\n\u001b[0;32m   2416\u001b[0m \u001b[39mself\u001b[39m\u001b[39m.\u001b[39m_children\u001b[39m.\u001b[39mappend(p)\n\u001b[0;32m   2417\u001b[0m p\u001b[39m.\u001b[39m_remove_method \u001b[39m=\u001b[39m \u001b[39mself\u001b[39m\u001b[39m.\u001b[39m_children\u001b[39m.\u001b[39mremove\n",
      "File \u001b[1;32mc:\\BeCode\\LocalRepos\\VirtualEnvs\\realestate_price_prediction\\lib\\site-packages\\matplotlib\\axes\\_base.py:2437\u001b[0m, in \u001b[0;36m_AxesBase._update_patch_limits\u001b[1;34m(self, patch)\u001b[0m\n\u001b[0;32m   2434\u001b[0m \u001b[39m# Get all vertices on the path\u001b[39;00m\n\u001b[0;32m   2435\u001b[0m \u001b[39m# Loop through each segment to get extrema for Bezier curve sections\u001b[39;00m\n\u001b[0;32m   2436\u001b[0m vertices \u001b[39m=\u001b[39m []\n\u001b[1;32m-> 2437\u001b[0m \u001b[39mfor\u001b[39;00m curve, code \u001b[39min\u001b[39;00m p\u001b[39m.\u001b[39miter_bezier():\n\u001b[0;32m   2438\u001b[0m     \u001b[39m# Get distance along the curve of any extrema\u001b[39;00m\n\u001b[0;32m   2439\u001b[0m     _, dzeros \u001b[39m=\u001b[39m curve\u001b[39m.\u001b[39maxis_aligned_extrema()\n\u001b[0;32m   2440\u001b[0m     \u001b[39m# Calculate vertices of start, end and any extrema in between\u001b[39;00m\n",
      "File \u001b[1;32mc:\\BeCode\\LocalRepos\\VirtualEnvs\\realestate_price_prediction\\lib\\site-packages\\matplotlib\\path.py:452\u001b[0m, in \u001b[0;36mPath.iter_bezier\u001b[1;34m(self, **kwargs)\u001b[0m\n\u001b[0;32m    450\u001b[0m     \u001b[39myield\u001b[39;00m BezierSegment(np\u001b[39m.\u001b[39marray([first_vert])), code\n\u001b[0;32m    451\u001b[0m \u001b[39melif\u001b[39;00m code \u001b[39m==\u001b[39m Path\u001b[39m.\u001b[39mLINETO:  \u001b[39m# \"CURVE2\"\u001b[39;00m\n\u001b[1;32m--> 452\u001b[0m     \u001b[39myield\u001b[39;00m BezierSegment(np\u001b[39m.\u001b[39;49marray([prev_vert, verts])), code\n\u001b[0;32m    453\u001b[0m \u001b[39melif\u001b[39;00m code \u001b[39m==\u001b[39m Path\u001b[39m.\u001b[39mCURVE3:\n\u001b[0;32m    454\u001b[0m     \u001b[39myield\u001b[39;00m BezierSegment(np\u001b[39m.\u001b[39marray([prev_vert, verts[:\u001b[39m2\u001b[39m],\n\u001b[0;32m    455\u001b[0m                                   verts[\u001b[39m2\u001b[39m:]])), code\n",
      "\u001b[1;31mKeyboardInterrupt\u001b[0m: "
     ]
    },
    {
     "data": {
      "image/png": "[encoded data removed]",
      "text/plain": [
       "<Figure size 640x480 with 1 Axes>"
      ]
     },
     "metadata": {},
     "output_type": "display_data"
    }
   ],
   "source": [
    "df.plot(x=\"Region\", y=\"Price\", kind=\"bar\")\n",
    "\n",
    "plt.show()"
   ]
  },
  {
   "cell_type": "code",
   "execution_count": null,
   "id": "608ac1a9",
   "metadata": {},
   "outputs": [],
   "source": []
  },
  {
   "cell_type": "code",
   "execution_count": null,
   "id": "511b4025",
   "metadata": {},
   "outputs": [],
   "source": []
  },
  {
   "cell_type": "code",
   "execution_count": null,
   "id": "77111612",
   "metadata": {},
   "outputs": [],
   "source": []
  },
  {
   "cell_type": "markdown",
   "id": "7ceb73c3",
   "metadata": {},
   "source": [
    "Encoding categorical values"
   ]
  },
  {
   "cell_type": "code",
   "execution_count": 236,
   "id": "dd61cf34",
   "metadata": {},
   "outputs": [],
   "source": [
    "cols_categorical = ['HasBasement', 'HasLift', 'FloodZoneType', 'HeatingType', 'IsDoubleGlaze', 'HasGarden', 'KitchekType', 'Province', 'locality', 'Region','BuildingCondition']\n",
    "\n",
    "# # df_out.HasBasement=df_out.HasBasement.astype('category').cat.codes\n",
    "# df_out.HasLift=df_out.HasLift.astype('category').cat.codes\n",
    "# df_out.FloodZoneType=df_out.FloodZoneType.astype('category').cat.codes\n",
    "# df_out.HeatingType=df_out.HeatingType.astype('category').cat.codes\n",
    "# df_out.BuildingCondition=df_out.BuildingCondition.astype('category').cat.codes\n",
    "# df_out.IsDoubleGlaze=df_out.IsDoubleGlaze.astype('category').cat.codes\n",
    "# df_out.HasGarden\t=df_out.HasGarden.astype('category').cat.codes\n",
    "# df_out.KitchekType\t=df_out.KitchekType\t.astype('category').cat.codes\n",
    "# df_out.Province=df_out.Province.astype('category').cat.codes\n",
    "# df_out.locality\t=df_out.locality.astype('category').cat.codes\n",
    "# df_out.Region\t=df_out.Region\t.astype('category').cat.codes\n",
    "\n"
   ]
  },
  {
   "cell_type": "markdown",
   "id": "97239f3a",
   "metadata": {},
   "source": []
  },
  {
   "cell_type": "markdown",
   "id": "a62569a4",
   "metadata": {},
   "source": []
  },
  {
   "cell_type": "markdown",
   "id": "87b1fc3f",
   "metadata": {},
   "source": []
  },
  {
   "cell_type": "markdown",
   "id": "ee216b17",
   "metadata": {},
   "source": []
  },
  {
   "cell_type": "markdown",
   "id": "ffd8e900",
   "metadata": {},
   "source": []
  },
  {
   "cell_type": "markdown",
   "id": "3c2a926e",
   "metadata": {},
   "source": []
  },
  {
   "cell_type": "markdown",
   "metadata": {},
   "source": []
  },
  {
   "cell_type": "markdown",
   "metadata": {},
   "source": []
  },
  {
   "cell_type": "markdown",
   "metadata": {},
   "source": []
  },
  {
   "cell_type": "markdown",
   "id": "4c9579af",
   "metadata": {},
   "source": [
    "Label Encoding\n",
    "\n",
    "LabelEncoder:This transformer should be used to encode TARGET values, i.e. y, and not the input X.\n",
    "OneHotEncoder(Ideal for smaller gategory as the number of column increased by the number of category): The input to this transformer should be an array-like of integers or strings, denoting the values taken on by categorical (discrete) features. The features are encoded using a one-hot (aka ‘one-of-K’ or ‘dummy’) encoding scheme. we might confuse the model into thinking that a column has data with some kind of order or hierarchy when we clearly don’t have it. To avoid this, we ‘OneHotEncode’ that column."
   ]
  },
  {
   "cell_type": "markdown",
   "id": "8e7fdaad",
   "metadata": {},
   "source": [
    "Label "
   ]
  },
  {
   "cell_type": "code",
   "execution_count": 20,
   "id": "c876cfc8",
   "metadata": {},
   "outputs": [],
   "source": [
    "def encode_list(list_):\n",
    "    encoder = preprocessing.OrdinalEncoder\n",
    "    list_transformed = encoder.fit_transform(list_)\n",
    "    list_transformed = le.transform(list_)\n",
    "    return le, list_transformed"
   ]
  },
  {
   "cell_type": "code",
   "execution_count": 22,
   "id": "cde87d32",
   "metadata": {},
   "outputs": [
    {
     "data": {
      "text/plain": [
       "Index(['Type', 'Sub type', 'Price', 'NetHabitableSurface(msq)', 'BedroomCount',\n",
       "       'Province', 'locality', 'Region', 'PostCode', 'street',\n",
       "       'BuildingCondition', 'ConstructionYear', 'FacadeCount', 'FloodZoneType',\n",
       "       'HeatingType', 'IsDoubleGlaze', 'KitchekType'],\n",
       "      dtype='object')"
      ]
     },
     "execution_count": 22,
     "metadata": {},
     "output_type": "execute_result"
    }
   ],
   "source": [
    "df.columns"
   ]
  },
  {
   "cell_type": "code",
   "execution_count": 23,
   "id": "24e4d382",
   "metadata": {},
   "outputs": [
    {
     "ename": "TypeError",
     "evalue": "LabelEncoder.fit() missing 1 required positional argument: 'y'",
     "output_type": "error",
     "traceback": [
      "\u001b[1;31m---------------------------------------------------------------------------\u001b[0m",
      "\u001b[1;31mTypeError\u001b[0m                                 Traceback (most recent call last)",
      "Cell \u001b[1;32mIn [23], line 1\u001b[0m\n\u001b[1;32m----> 1\u001b[0m type_encoding, encoded_type_value \u001b[39m=\u001b[39m encode_list(\u001b[39m'\u001b[39;49m\u001b[39mType\u001b[39;49m\u001b[39m'\u001b[39;49m)\n\u001b[0;32m      2\u001b[0m subtype_encoding, encoded_province_value \u001b[39m=\u001b[39m encode_list(\u001b[39m'\u001b[39m\u001b[39mSub type\u001b[39m\u001b[39m'\u001b[39m)\n\u001b[0;32m      3\u001b[0m province_encoding, encoded_province_value \u001b[39m=\u001b[39m encode_list(\u001b[39m'\u001b[39m\u001b[39mProvince\u001b[39m\u001b[39m'\u001b[39m)\n",
      "Cell \u001b[1;32mIn [20], line 3\u001b[0m, in \u001b[0;36mencode_list\u001b[1;34m(list_)\u001b[0m\n\u001b[0;32m      1\u001b[0m \u001b[39mdef\u001b[39;00m \u001b[39mencode_list\u001b[39m(list_):\n\u001b[0;32m      2\u001b[0m     le \u001b[39m=\u001b[39m preprocessing\u001b[39m.\u001b[39mLabelEncoder\n\u001b[1;32m----> 3\u001b[0m     le\u001b[39m.\u001b[39;49mfit(list_)\n\u001b[0;32m      4\u001b[0m     list_transformed \u001b[39m=\u001b[39m le\u001b[39m.\u001b[39mtransform(list_)\n\u001b[0;32m      5\u001b[0m     \u001b[39mreturn\u001b[39;00m le, list_transformed\n",
      "\u001b[1;31mTypeError\u001b[0m: LabelEncoder.fit() missing 1 required positional argument: 'y'"
     ]
    }
   ],
   "source": [
    "type_encoding, encoded_type_value = encode_list('Type')\n",
    "subtype_encoding, encoded_province_value = encode_list('Sub type')\n",
    "province_encoding, encoded_province_value = encode_list('Province')\n",
    "locality_encoding, encoded_locality_value = encode_list('locality')\n",
    "region_encoding, encoded_region_value = encode_list('Region')\n",
    "postcode_encoding, encoded_postcode_value = encode_list('PostCode')\n",
    "street_encoding, encoded_street_value = encode_list('street')\n",
    "buildingCondition_encoding, encoded_buildingCondition_value = encode_list('BuildingCondition')\n",
    "constructionYear_encoding, encoded_constructionYear_value = encode_list('ConstructionYear')\n",
    "FacadeCount_encoding, encoded_FacadeCount_value = encode_list('FacadeCount')\n",
    "floodzone_encoding, encoded_floodzone_value = encode_list('FloodZoneType')\n",
    "heatingtype_encoding, encoded_heatingtype_value = encode_list('HeatingType')\n",
    "isDoubleGlz_encoding, encoded_isDoubleGlz_value = encode_list('IsDoubleGlaze')\n",
    "kitchenType_encoding, encoded_kitchentype_value = encode_list('KitchekType')          "
   ]
  },
  {
   "cell_type": "code",
   "execution_count": 93,
   "id": "19a84103",
   "metadata": {},
   "outputs": [],
   "source": [
    "def predict_value_forNAN(data, column_name):\n",
    "    test = data[data[column_name].isna()]\n",
    "    train = data.dropna()\n",
    "    x_train = train.drop([column_name], axis=1)\n",
    "    y_train = train[column_name]\n",
    "    x_test = test.drop(column_name, axis=1)\n",
    "    \n",
    "    lr_model = lr(random_state=0)\n",
    "    lr_model.fit(x_train, y_train)\n",
    "    y_pred = lr.predict(x_test)\n",
    "    return y_pred\n",
    "    "
   ]
  },
  {
   "cell_type": "code",
   "execution_count": 94,
   "id": "87f5a923",
   "metadata": {},
   "outputs": [
    {
     "ename": "ValueError",
     "evalue": "could not convert string to float: 'APARTMENT'",
     "output_type": "error",
     "traceback": [
      "\u001b[1;31m---------------------------------------------------------------------------\u001b[0m",
      "\u001b[1;31mValueError\u001b[0m                                Traceback (most recent call last)",
      "Cell \u001b[1;32mIn [94], line 1\u001b[0m\n\u001b[1;32m----> 1\u001b[0m predicted_values \u001b[39m=\u001b[39m predict_value_forNAN(df, \u001b[39m'\u001b[39;49m\u001b[39mFloor\u001b[39;49m\u001b[39m'\u001b[39;49m)\n\u001b[0;32m      2\u001b[0m \u001b[39mprint\u001b[39m(df\u001b[39m.\u001b[39mFloor\u001b[39m.\u001b[39misna()\u001b[39m.\u001b[39msum())\n\u001b[0;32m      3\u001b[0m df\u001b[39m.\u001b[39mloc[df[\u001b[39m'\u001b[39m\u001b[39mFloor\u001b[39m\u001b[39m'\u001b[39m]\u001b[39m.\u001b[39misna(), \u001b[39m'\u001b[39m\u001b[39mFloor\u001b[39m\u001b[39m'\u001b[39m] \u001b[39m=\u001b[39m predicted_values\n",
      "Cell \u001b[1;32mIn [93], line 9\u001b[0m, in \u001b[0;36mpredict_value_forNAN\u001b[1;34m(data, column_name)\u001b[0m\n\u001b[0;32m      6\u001b[0m x_test \u001b[39m=\u001b[39m test\u001b[39m.\u001b[39mdrop(column_name, axis\u001b[39m=\u001b[39m\u001b[39m1\u001b[39m)\n\u001b[0;32m      8\u001b[0m lr_model \u001b[39m=\u001b[39m lr(random_state\u001b[39m=\u001b[39m\u001b[39m0\u001b[39m)\n\u001b[1;32m----> 9\u001b[0m lr_model\u001b[39m.\u001b[39;49mfit(x_train, y_train)\n\u001b[0;32m     10\u001b[0m y_pred \u001b[39m=\u001b[39m lr\u001b[39m.\u001b[39mpredict(x_test)\n\u001b[0;32m     11\u001b[0m \u001b[39mreturn\u001b[39;00m y_pred\n",
      "File \u001b[1;32mc:\\BeCode\\LocalRepos\\VirtualEnvs\\realestate_price_prediction\\lib\\site-packages\\sklearn\\linear_model\\_logistic.py:1138\u001b[0m, in \u001b[0;36mLogisticRegression.fit\u001b[1;34m(self, X, y, sample_weight)\u001b[0m\n\u001b[0;32m   1135\u001b[0m \u001b[39melse\u001b[39;00m:\n\u001b[0;32m   1136\u001b[0m     _dtype \u001b[39m=\u001b[39m [np\u001b[39m.\u001b[39mfloat64, np\u001b[39m.\u001b[39mfloat32]\n\u001b[1;32m-> 1138\u001b[0m X, y \u001b[39m=\u001b[39m \u001b[39mself\u001b[39;49m\u001b[39m.\u001b[39;49m_validate_data(\n\u001b[0;32m   1139\u001b[0m     X,\n\u001b[0;32m   1140\u001b[0m     y,\n\u001b[0;32m   1141\u001b[0m     accept_sparse\u001b[39m=\u001b[39;49m\u001b[39m\"\u001b[39;49m\u001b[39mcsr\u001b[39;49m\u001b[39m\"\u001b[39;49m,\n\u001b[0;32m   1142\u001b[0m     dtype\u001b[39m=\u001b[39;49m_dtype,\n\u001b[0;32m   1143\u001b[0m     order\u001b[39m=\u001b[39;49m\u001b[39m\"\u001b[39;49m\u001b[39mC\u001b[39;49m\u001b[39m\"\u001b[39;49m,\n\u001b[0;32m   1144\u001b[0m     accept_large_sparse\u001b[39m=\u001b[39;49msolver \u001b[39mnot\u001b[39;49;00m \u001b[39min\u001b[39;49;00m [\u001b[39m\"\u001b[39;49m\u001b[39mliblinear\u001b[39;49m\u001b[39m\"\u001b[39;49m, \u001b[39m\"\u001b[39;49m\u001b[39msag\u001b[39;49m\u001b[39m\"\u001b[39;49m, \u001b[39m\"\u001b[39;49m\u001b[39msaga\u001b[39;49m\u001b[39m\"\u001b[39;49m],\n\u001b[0;32m   1145\u001b[0m )\n\u001b[0;32m   1146\u001b[0m check_classification_targets(y)\n\u001b[0;32m   1147\u001b[0m \u001b[39mself\u001b[39m\u001b[39m.\u001b[39mclasses_ \u001b[39m=\u001b[39m np\u001b[39m.\u001b[39munique(y)\n",
      "File \u001b[1;32mc:\\BeCode\\LocalRepos\\VirtualEnvs\\realestate_price_prediction\\lib\\site-packages\\sklearn\\base.py:596\u001b[0m, in \u001b[0;36mBaseEstimator._validate_data\u001b[1;34m(self, X, y, reset, validate_separately, **check_params)\u001b[0m\n\u001b[0;32m    594\u001b[0m         y \u001b[39m=\u001b[39m check_array(y, input_name\u001b[39m=\u001b[39m\u001b[39m\"\u001b[39m\u001b[39my\u001b[39m\u001b[39m\"\u001b[39m, \u001b[39m*\u001b[39m\u001b[39m*\u001b[39mcheck_y_params)\n\u001b[0;32m    595\u001b[0m     \u001b[39melse\u001b[39;00m:\n\u001b[1;32m--> 596\u001b[0m         X, y \u001b[39m=\u001b[39m check_X_y(X, y, \u001b[39m*\u001b[39m\u001b[39m*\u001b[39mcheck_params)\n\u001b[0;32m    597\u001b[0m     out \u001b[39m=\u001b[39m X, y\n\u001b[0;32m    599\u001b[0m \u001b[39mif\u001b[39;00m \u001b[39mnot\u001b[39;00m no_val_X \u001b[39mand\u001b[39;00m check_params\u001b[39m.\u001b[39mget(\u001b[39m\"\u001b[39m\u001b[39mensure_2d\u001b[39m\u001b[39m\"\u001b[39m, \u001b[39mTrue\u001b[39;00m):\n",
      "File \u001b[1;32mc:\\BeCode\\LocalRepos\\VirtualEnvs\\realestate_price_prediction\\lib\\site-packages\\sklearn\\utils\\validation.py:1074\u001b[0m, in \u001b[0;36mcheck_X_y\u001b[1;34m(X, y, accept_sparse, accept_large_sparse, dtype, order, copy, force_all_finite, ensure_2d, allow_nd, multi_output, ensure_min_samples, ensure_min_features, y_numeric, estimator)\u001b[0m\n\u001b[0;32m   1069\u001b[0m         estimator_name \u001b[39m=\u001b[39m _check_estimator_name(estimator)\n\u001b[0;32m   1070\u001b[0m     \u001b[39mraise\u001b[39;00m \u001b[39mValueError\u001b[39;00m(\n\u001b[0;32m   1071\u001b[0m         \u001b[39mf\u001b[39m\u001b[39m\"\u001b[39m\u001b[39m{\u001b[39;00mestimator_name\u001b[39m}\u001b[39;00m\u001b[39m requires y to be passed, but the target y is None\u001b[39m\u001b[39m\"\u001b[39m\n\u001b[0;32m   1072\u001b[0m     )\n\u001b[1;32m-> 1074\u001b[0m X \u001b[39m=\u001b[39m check_array(\n\u001b[0;32m   1075\u001b[0m     X,\n\u001b[0;32m   1076\u001b[0m     accept_sparse\u001b[39m=\u001b[39;49maccept_sparse,\n\u001b[0;32m   1077\u001b[0m     accept_large_sparse\u001b[39m=\u001b[39;49maccept_large_sparse,\n\u001b[0;32m   1078\u001b[0m     dtype\u001b[39m=\u001b[39;49mdtype,\n\u001b[0;32m   1079\u001b[0m     order\u001b[39m=\u001b[39;49morder,\n\u001b[0;32m   1080\u001b[0m     copy\u001b[39m=\u001b[39;49mcopy,\n\u001b[0;32m   1081\u001b[0m     force_all_finite\u001b[39m=\u001b[39;49mforce_all_finite,\n\u001b[0;32m   1082\u001b[0m     ensure_2d\u001b[39m=\u001b[39;49mensure_2d,\n\u001b[0;32m   1083\u001b[0m     allow_nd\u001b[39m=\u001b[39;49mallow_nd,\n\u001b[0;32m   1084\u001b[0m     ensure_min_samples\u001b[39m=\u001b[39;49mensure_min_samples,\n\u001b[0;32m   1085\u001b[0m     ensure_min_features\u001b[39m=\u001b[39;49mensure_min_features,\n\u001b[0;32m   1086\u001b[0m     estimator\u001b[39m=\u001b[39;49mestimator,\n\u001b[0;32m   1087\u001b[0m     input_name\u001b[39m=\u001b[39;49m\u001b[39m\"\u001b[39;49m\u001b[39mX\u001b[39;49m\u001b[39m\"\u001b[39;49m,\n\u001b[0;32m   1088\u001b[0m )\n\u001b[0;32m   1090\u001b[0m y \u001b[39m=\u001b[39m _check_y(y, multi_output\u001b[39m=\u001b[39mmulti_output, y_numeric\u001b[39m=\u001b[39my_numeric, estimator\u001b[39m=\u001b[39mestimator)\n\u001b[0;32m   1092\u001b[0m check_consistent_length(X, y)\n",
      "File \u001b[1;32mc:\\BeCode\\LocalRepos\\VirtualEnvs\\realestate_price_prediction\\lib\\site-packages\\sklearn\\utils\\validation.py:856\u001b[0m, in \u001b[0;36mcheck_array\u001b[1;34m(array, accept_sparse, accept_large_sparse, dtype, order, copy, force_all_finite, ensure_2d, allow_nd, ensure_min_samples, ensure_min_features, estimator, input_name)\u001b[0m\n\u001b[0;32m    854\u001b[0m         array \u001b[39m=\u001b[39m array\u001b[39m.\u001b[39mastype(dtype, casting\u001b[39m=\u001b[39m\u001b[39m\"\u001b[39m\u001b[39munsafe\u001b[39m\u001b[39m\"\u001b[39m, copy\u001b[39m=\u001b[39m\u001b[39mFalse\u001b[39;00m)\n\u001b[0;32m    855\u001b[0m     \u001b[39melse\u001b[39;00m:\n\u001b[1;32m--> 856\u001b[0m         array \u001b[39m=\u001b[39m np\u001b[39m.\u001b[39;49masarray(array, order\u001b[39m=\u001b[39;49morder, dtype\u001b[39m=\u001b[39;49mdtype)\n\u001b[0;32m    857\u001b[0m \u001b[39mexcept\u001b[39;00m ComplexWarning \u001b[39mas\u001b[39;00m complex_warning:\n\u001b[0;32m    858\u001b[0m     \u001b[39mraise\u001b[39;00m \u001b[39mValueError\u001b[39;00m(\n\u001b[0;32m    859\u001b[0m         \u001b[39m\"\u001b[39m\u001b[39mComplex data not supported\u001b[39m\u001b[39m\\n\u001b[39;00m\u001b[39m{}\u001b[39;00m\u001b[39m\\n\u001b[39;00m\u001b[39m\"\u001b[39m\u001b[39m.\u001b[39mformat(array)\n\u001b[0;32m    860\u001b[0m     ) \u001b[39mfrom\u001b[39;00m \u001b[39mcomplex_warning\u001b[39;00m\n",
      "File \u001b[1;32mc:\\BeCode\\LocalRepos\\VirtualEnvs\\realestate_price_prediction\\lib\\site-packages\\pandas\\core\\generic.py:2069\u001b[0m, in \u001b[0;36mNDFrame.__array__\u001b[1;34m(self, dtype)\u001b[0m\n\u001b[0;32m   2068\u001b[0m \u001b[39mdef\u001b[39;00m \u001b[39m__array__\u001b[39m(\u001b[39mself\u001b[39m, dtype: npt\u001b[39m.\u001b[39mDTypeLike \u001b[39m|\u001b[39m \u001b[39mNone\u001b[39;00m \u001b[39m=\u001b[39m \u001b[39mNone\u001b[39;00m) \u001b[39m-\u001b[39m\u001b[39m>\u001b[39m np\u001b[39m.\u001b[39mndarray:\n\u001b[1;32m-> 2069\u001b[0m     \u001b[39mreturn\u001b[39;00m np\u001b[39m.\u001b[39;49masarray(\u001b[39mself\u001b[39;49m\u001b[39m.\u001b[39;49m_values, dtype\u001b[39m=\u001b[39;49mdtype)\n",
      "\u001b[1;31mValueError\u001b[0m: could not convert string to float: 'APARTMENT'"
     ]
    }
   ],
   "source": [
    "predicted_values = predict_value_forNAN(df, 'Floor')\n",
    "print(df.Floor.isna().sum())\n",
    "df.loc[df['Floor'].isna(), 'Floor'] = predicted_values\n",
    "print(df.Floor.isna().sum())"
   ]
  }
 ],
 "metadata": {
  "kernelspec": {
   "display_name": "realestate_price_prediction",
   "language": "python",
   "name": "realestate_price_prediction"
  },
  "language_info": {
   "codemirror_mode": {
    "name": "ipython",
    "version": 3
   },
   "file_extension": ".py",
   "mimetype": "text/x-python",
   "name": "python",
   "nbconvert_exporter": "python",
   "pygments_lexer": "ipython3",
   "version": "3.10.6"
  }
 },
 "nbformat": 4,
 "nbformat_minor": 5
}
